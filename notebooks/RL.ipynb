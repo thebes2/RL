{
 "cells": [
  {
   "cell_type": "code",
   "execution_count": 1,
   "metadata": {},
   "outputs": [],
   "source": [
    "import gym\n",
    "import os\n",
    "os.environ[\"CUDA_VISIBLE_DEVICES\"] = \"-1\" #### REMOVE THIS LINE WHEN CUDA CONFIG IS FIXED\n",
    "import tensorflow as tf\n",
    "import numpy as np\n",
    "import sys\n",
    "import time\n",
    "import gym_snake\n",
    "import json\n",
    "import importlib\n",
    "import random\n",
    "from PIL import Image\n",
    "from tqdm import tqdm\n",
    "\n",
    "sys.path.insert(0, '..')\n",
    "from utils.Buffer import ReplayBuffer\n",
    "from utils.Conv import ConvHead\n",
    "from rl.models import get_policy_architecture, get_value_architecture, get_vision_architecture\n",
    "from algos.PPO import PPO_agent\n",
    "from algos.DQN import DQN_agent\n",
    "from utils.Loader import load_agent\n",
    "\n",
    "# %load_ext line_profiler\n",
    "%matplotlib notebook"
   ]
  },
  {
   "cell_type": "code",
   "execution_count": 2,
   "metadata": {},
   "outputs": [
    {
     "data": {
      "text/plain": [
       "'\\nagent = load_agent(\\n    os.path.join(\\'..\\', \\'configs\\', \\'cartpole.json\\'),\\n    run_name=\"cartpole-DQN-load_test\",\\n    ckpt_folder=os.path.join(\\'..\\', \\'checkpoints\\')\\n)\\n'"
      ]
     },
     "execution_count": 2,
     "metadata": {},
     "output_type": "execute_result"
    }
   ],
   "source": [
    "\"\"\"\n",
    "agent = load_agent(\n",
    "    os.path.join('..', 'configs', 'cartpole.json'),\n",
    "    run_name=\"cartpole-DQN-load_test\",\n",
    "    ckpt_folder=os.path.join('..', 'checkpoints')\n",
    ")\n",
    "\"\"\""
   ]
  },
  {
   "cell_type": "code",
   "execution_count": 3,
   "metadata": {},
   "outputs": [
    {
     "data": {
      "text/plain": [
       "'\\nhist = []\\nagent.load_from_checkpoint()\\nhist += agent.train(100, t_max=1000, display=True)\\n'"
      ]
     },
     "execution_count": 3,
     "metadata": {},
     "output_type": "execute_result"
    }
   ],
   "source": [
    "\"\"\"\n",
    "hist = []\n",
    "agent.load_from_checkpoint()\n",
    "hist += agent.train(100, t_max=1000, display=True)\n",
    "\"\"\""
   ]
  },
  {
   "cell_type": "code",
   "execution_count": 4,
   "metadata": {},
   "outputs": [],
   "source": [
    "# tetris = importlib.import_module('pytris-effect.src.gameui')"
   ]
  },
  {
   "cell_type": "code",
   "execution_count": 5,
   "metadata": {},
   "outputs": [],
   "source": [
    "run_name = 'snake'\n",
    "action = 'train'\n",
    "algo = ('DDQN', 'Dueling')"
   ]
  },
  {
   "cell_type": "code",
   "execution_count": 6,
   "metadata": {},
   "outputs": [],
   "source": [
    "cfg_fp = os.path.join('..', 'configs', run_name + '.json')\n",
    "with open(cfg_fp, 'r') as f:\n",
    "    config = json.load(f)\n",
    "ckpt_folder = os.path.join('..', 'checkpoints')"
   ]
  },
  {
   "cell_type": "code",
   "execution_count": 7,
   "metadata": {},
   "outputs": [],
   "source": [
    "env_name = config['env']\n",
    "if run_name == 'tetris':\n",
    "    env = tetris.GameUI(graphic_mode=False, its_per_sec=2, sec_per_tick=0.5)\n",
    "else:\n",
    "    env = gym.make(env_name).env if 'use_raw_env' in config else gym.make(env_name)"
   ]
  },
  {
   "cell_type": "code",
   "execution_count": 8,
   "metadata": {},
   "outputs": [
    {
     "data": {
      "text/plain": [
       "(150, 150, 3)"
      ]
     },
     "execution_count": 8,
     "metadata": {},
     "output_type": "execute_result"
    }
   ],
   "source": [
    "env.reset().shape"
   ]
  },
  {
   "cell_type": "code",
   "execution_count": 9,
   "metadata": {},
   "outputs": [],
   "source": [
    "def show_img(arr):\n",
    "    scaling = 30\n",
    "    data = np.zeros((scaling*arr.shape[0], scaling*arr.shape[1], 3), dtype=np.uint8)\n",
    "    for i in range(data.shape[0]):\n",
    "        for j in range(data.shape[1]):\n",
    "            for k in range(data.shape[2]):\n",
    "                data[i,j,k] = arr[i//scaling,j//scaling,k]\n",
    "    img = Image.fromarray(data, 'RGB')\n",
    "    # img.save('my.png')\n",
    "    img.show()"
   ]
  },
  {
   "cell_type": "code",
   "execution_count": 10,
   "metadata": {},
   "outputs": [],
   "source": [
    "if action == 'evaluate':\n",
    "    %lprun -f env.drawMatrix env.drawMatrix()"
   ]
  },
  {
   "cell_type": "code",
   "execution_count": 11,
   "metadata": {},
   "outputs": [],
   "source": [
    "if action == 'evaluate':\n",
    "    arr = env.reset()[::10,::10,:]\n",
    "    img = Image.fromarray(arr, 'RGB')\n",
    "    img.show()\n",
    "    #show_img(env.reset())"
   ]
  },
  {
   "cell_type": "code",
   "execution_count": 12,
   "metadata": {},
   "outputs": [],
   "source": [
    "if False:\n",
    "    action = 1\n",
    "    obs, reward, dn, info = env.step(action)\n",
    "    show_img(obs)\n",
    "    print(reward, dn, info)"
   ]
  },
  {
   "cell_type": "code",
   "execution_count": 13,
   "metadata": {},
   "outputs": [],
   "source": [
    "def do_step():\n",
    "    _, _, dn, _ = env.step(random.choice(range(7)))\n",
    "    if dn:\n",
    "        env.reset()"
   ]
  },
  {
   "cell_type": "code",
   "execution_count": 14,
   "metadata": {},
   "outputs": [],
   "source": [
    "#%timeit env.reset()"
   ]
  },
  {
   "cell_type": "code",
   "execution_count": 15,
   "metadata": {},
   "outputs": [],
   "source": [
    "#%timeit do_step()"
   ]
  },
  {
   "cell_type": "code",
   "execution_count": 16,
   "metadata": {},
   "outputs": [],
   "source": [
    "#%lprun -f env.get_obs do_step()"
   ]
  },
  {
   "cell_type": "code",
   "execution_count": 17,
   "metadata": {},
   "outputs": [],
   "source": [
    "model = get_policy_architecture(env_name, algo=algo)\n",
    "if 'DQN' in \"\\n\".join(algo):\n",
    "    target = tf.keras.models.clone_model(model)\n",
    "else:\n",
    "    value = get_value_architecture(env_name)"
   ]
  },
  {
   "cell_type": "code",
   "execution_count": 18,
   "metadata": {},
   "outputs": [],
   "source": [
    "if 'DQN' in \"\\n\".join(algo):\n",
    "    agent = DQN_agent(\n",
    "        model,\n",
    "        # (TODO): Move args for ReplayBuffer into DQN\n",
    "        ReplayBuffer(config.get(\"max_buf_size\", 20000), mode='uniform'),\n",
    "        target=target,\n",
    "        env=env,\n",
    "        mode=('DDQN'), # 'PER'\n",
    "        learning_rate=config['learning_rate'],\n",
    "        batch_size=config['batch_size'],\n",
    "        update_steps=1,\n",
    "        update_freq=4,\n",
    "        multistep=5,\n",
    "        alpha=1.5,\n",
    "        beta=1.0,\n",
    "        gamma=0.95,\n",
    "        target_delay=1000,\n",
    "        delta=1.0,\n",
    "        # delta=0.000003,\n",
    "        env_name=config['env_name'],\n",
    "        algo_name='DQN',\n",
    "        ckpt_folder=ckpt_folder,\n",
    "        run_name='snake-DQN-pretrain-hard_update-uniform-multistep5-7'\n",
    "    )\n",
    "elif 'PPO' in \"\\n\".join(algo):\n",
    "    agent = PPO_agent(\n",
    "        model,\n",
    "        value,\n",
    "        env=env,\n",
    "        learning_rate=config['learning_rate'],\n",
    "        minibatch_size=config['minibatch_size'],\n",
    "        gamma=0.99,\n",
    "        env_name=config['env_name'],\n",
    "        run_name='snake-PPO-pretrain',\n",
    "        ckpt_folder=ckpt_folder\n",
    "    )"
   ]
  },
  {
   "cell_type": "code",
   "execution_count": 19,
   "metadata": {},
   "outputs": [],
   "source": [
    "t_max = config['t_max']"
   ]
  },
  {
   "cell_type": "code",
   "execution_count": 20,
   "metadata": {},
   "outputs": [],
   "source": [
    "p_buf = []\n",
    "\n",
    "def collect_rollout(env, t_max, policy):\n",
    "    s = agent.preprocess(env.reset())\n",
    "    for t in range(t_max):\n",
    "        act = policy(s)\n",
    "        ss, r, dn, _ = env.step(agent.action_wrapper(act))\n",
    "        ss = agent.preprocess(ss)\n",
    "        p_buf.append([s, ss])\n",
    "        s = ss\n",
    "        if dn:\n",
    "            break"
   ]
  },
  {
   "cell_type": "code",
   "execution_count": 21,
   "metadata": {},
   "outputs": [
    {
     "name": "stderr",
     "output_type": "stream",
     "text": [
      "100%|██████████| 500/500 [00:01<00:00, 457.76it/s]\n"
     ]
    },
    {
     "name": "stdout",
     "output_type": "stream",
     "text": [
      "Collected 15340 samples\n"
     ]
    },
    {
     "data": {
      "application/vnd.jupyter.widget-view+json": {
       "model_id": "f085a09f9cea489e9404bda26e7d3d7f",
       "version_major": 2,
       "version_minor": 0
      },
      "text/plain": [
       "  0%|          | 0/239 [00:00<?, ?it/s]"
      ]
     },
     "metadata": {},
     "output_type": "display_data"
    },
    {
     "name": "stdout",
     "output_type": "stream",
     "text": [
      "[0] Loss: [0.16207144 0.16422944 0.17887095 0.17409125 0.19734879 0.21781886\n",
      " 0.23387843 0.22500688 0.23673627 0.1937929  0.24326453 0.25857937\n",
      " 0.17051055 0.20156612 0.21865784 0.21861552 0.18118884 0.19640914\n",
      " 0.2025929  0.22165535 0.20173624 0.20688468 0.21547227 0.17386135\n",
      " 0.21331543 0.21538275 0.24038132 0.23202287 0.1916675  0.19486418\n",
      " 0.15530969 0.13813093 0.20592816 0.21268854 0.17688681 0.16875999\n",
      " 0.18357621 0.17544466 0.18546654 0.1651627  0.27501094 0.2845768\n",
      " 0.27642527 0.29021144 0.17672037 0.17219049 0.21144046 0.18698743\n",
      " 0.17732346 0.18187226 0.26007393 0.28570256 0.20874463 0.19590168\n",
      " 0.2097269  0.20679654 0.17465702 0.17358631 0.22824326 0.24328586\n",
      " 0.28171524 0.24776584 0.24015933 0.2051436  0.27498612 0.33187854\n",
      " 0.15795347 0.17067455 0.21202    0.21311164 0.23877276 0.23929784\n",
      " 0.16703236 0.14166465 0.17781574 0.16438174 0.15650536 0.18442966\n",
      " 0.24041952 0.2079033  0.2299893  0.23280607 0.20981313 0.22526228\n",
      " 0.24233896 0.20656031 0.23173124 0.22923258 0.2708345  0.26507127\n",
      " 0.17157742 0.16535786 0.2058783  0.19921166 0.19770534 0.19694115\n",
      " 0.2130059  0.22798291 0.27986062 0.23533894 0.27607134 0.2470356\n",
      " 0.2187591  0.23738432 0.17475818 0.18556577 0.20903751 0.24470675\n",
      " 0.21661726 0.21994115 0.2015518  0.16983151 0.22822613 0.21984984\n",
      " 0.3020791  0.27508315 0.28412256 0.26610008 0.1714005  0.19309708\n",
      " 0.19471401 0.20460942 0.20787871 0.23166838 0.2242394  0.21716024\n",
      " 0.21394394 0.22912417]\n"
     ]
    },
    {
     "data": {
      "application/vnd.jupyter.widget-view+json": {
       "model_id": "e1001182acd342f1bf1b0618c4e9b261",
       "version_major": 2,
       "version_minor": 0
      },
      "text/plain": [
       "  0%|          | 0/239 [00:00<?, ?it/s]"
      ]
     },
     "metadata": {},
     "output_type": "display_data"
    },
    {
     "name": "stdout",
     "output_type": "stream",
     "text": [
      "[1] Loss: [0.06608044 0.07096907 0.0868551  0.06263551 0.04648707 0.04968729\n",
      " 0.04721485 0.03682361 0.03976986 0.03505346 0.05929387 0.06991001\n",
      " 0.05749486 0.05228494 0.04985422 0.04354837 0.04065986 0.04368109\n",
      " 0.03940775 0.03472828 0.03732676 0.04097142 0.04393915 0.03408255\n",
      " 0.03781205 0.04436415 0.02870641 0.02737951 0.03803553 0.04434922\n",
      " 0.04586969 0.03829176 0.06061662 0.04370287 0.04050909 0.03675894\n",
      " 0.04232659 0.04525478 0.07392286 0.07023486 0.05406747 0.05565314\n",
      " 0.04819098 0.04888806 0.04207579 0.04111275 0.05111394 0.04756966\n",
      " 0.06411922 0.04901112 0.06108206 0.0499912  0.03603443 0.03855403\n",
      " 0.06306186 0.06362385 0.05657302 0.05354837 0.05325956 0.0515463\n",
      " 0.05331401 0.04907485 0.07831968 0.09182312 0.04262915 0.03161718\n",
      " 0.04138502 0.0437209  0.06222383 0.06522892 0.04171403 0.04547331\n",
      " 0.05722599 0.06518463 0.04003819 0.03790011 0.06562233 0.05431224\n",
      " 0.0596202  0.05330799 0.06059129 0.05579082 0.04254686 0.03628898\n",
      " 0.04860356 0.04298042 0.05865681 0.04513944 0.03835335 0.03937469\n",
      " 0.05743092 0.0505692  0.04121391 0.03701003 0.06584425 0.061215\n",
      " 0.07395345 0.09596816 0.04194685 0.04830451 0.05150182 0.04467635\n",
      " 0.03054949 0.02579065 0.05571022 0.06510587 0.03100717 0.03614805\n",
      " 0.03346878 0.0283754  0.03807352 0.04631318 0.04368552 0.04078664\n",
      " 0.06117471 0.04775051 0.06051172 0.07546145 0.05211423 0.05640613\n",
      " 0.04743624 0.05748191 0.05833226 0.05039765 0.04512178 0.05209908\n",
      " 0.04185928 0.06812733]\n"
     ]
    },
    {
     "data": {
      "application/vnd.jupyter.widget-view+json": {
       "model_id": "a5cd6886a3b94f09b42506c488413c3c",
       "version_major": 2,
       "version_minor": 0
      },
      "text/plain": [
       "  0%|          | 0/239 [00:00<?, ?it/s]"
      ]
     },
     "metadata": {},
     "output_type": "display_data"
    },
    {
     "name": "stdout",
     "output_type": "stream",
     "text": [
      "[2] Loss: [0.03651669 0.04229024 0.05569711 0.05452789 0.03677306 0.03046176\n",
      " 0.05449818 0.06663302 0.04291207 0.03697745 0.0641152  0.05121865\n",
      " 0.04275385 0.04533607 0.03816033 0.03768339 0.04733712 0.04448603\n",
      " 0.04699548 0.05901052 0.04663393 0.01956399 0.03435628 0.03192681\n",
      " 0.03838997 0.05149022 0.04673856 0.03772877 0.04097513 0.05036984\n",
      " 0.04807089 0.03889022 0.02323935 0.02445655 0.05227857 0.05944159\n",
      " 0.04191131 0.04997728 0.05360296 0.05451753 0.03659081 0.03415033\n",
      " 0.0493088  0.05013776 0.03447326 0.04404224 0.0602532  0.06551577\n",
      " 0.06974792 0.05170915 0.06444231 0.04678233 0.05620944 0.07084816\n",
      " 0.03593076 0.04066257 0.06110825 0.05054953 0.02757229 0.01887234\n",
      " 0.06325857 0.06284911 0.02683798 0.03467828 0.03105195 0.03475263\n",
      " 0.04164911 0.03778234 0.05091904 0.04359056 0.05845844 0.04506823\n",
      " 0.03020418 0.04177947 0.0293866  0.04341442 0.04346883 0.04675227\n",
      " 0.03172495 0.04121622 0.05378237 0.04296017 0.04023663 0.04158319\n",
      " 0.04032715 0.03795957 0.03152762 0.04175606 0.07341931 0.05477247\n",
      " 0.0268518  0.02654387 0.03166568 0.03286261 0.06076133 0.04973447\n",
      " 0.05801566 0.04977969 0.05083765 0.04764868 0.04540316 0.03253246\n",
      " 0.04909683 0.0597106  0.02156375 0.02324237 0.02157701 0.02304545\n",
      " 0.04064707 0.04859962 0.05501134 0.03550301 0.0280354  0.04418344\n",
      " 0.07982319 0.08176769 0.04297825 0.05259175 0.05896639 0.04093578\n",
      " 0.05177236 0.06460877 0.02662724 0.03283373 0.02659158 0.030277\n",
      " 0.03958809 0.03046913]\n"
     ]
    },
    {
     "data": {
      "application/vnd.jupyter.widget-view+json": {
       "model_id": "1b484239aa7646d2af899ae8528a0359",
       "version_major": 2,
       "version_minor": 0
      },
      "text/plain": [
       "  0%|          | 0/239 [00:00<?, ?it/s]"
      ]
     },
     "metadata": {},
     "output_type": "display_data"
    },
    {
     "name": "stdout",
     "output_type": "stream",
     "text": [
      "[3] Loss: [0.03845309 0.04579066 0.05518716 0.05361039 0.03579831 0.02469344\n",
      " 0.01971919 0.02784969 0.02648689 0.03380919 0.0244562  0.02571085\n",
      " 0.03444288 0.03517738 0.04794062 0.06162735 0.01590949 0.02209456\n",
      " 0.05152367 0.0386446  0.04308474 0.03793183 0.04706028 0.03035263\n",
      " 0.0409775  0.05237413 0.03104175 0.04130465 0.02741797 0.0314894\n",
      " 0.06332452 0.05259414 0.04055731 0.05016332 0.04082781 0.03484916\n",
      " 0.02067821 0.02527783 0.02727887 0.02916835 0.06522166 0.04931908\n",
      " 0.05360284 0.04298502 0.01890577 0.02068627 0.03861409 0.03070395\n",
      " 0.02973093 0.04151338 0.0340594  0.04210494 0.02859811 0.02952087\n",
      " 0.03721852 0.04967336 0.06754504 0.03998899 0.04377296 0.05087035\n",
      " 0.03574838 0.03907729 0.03842021 0.04523966 0.05148607 0.03412048\n",
      " 0.04267645 0.02766808 0.02516358 0.0329487  0.03992095 0.04851993\n",
      " 0.05080765 0.04540567 0.06495339 0.07095345 0.04011546 0.03157413\n",
      " 0.04927352 0.04822543 0.04200134 0.03076501 0.04469045 0.05348495\n",
      " 0.04237165 0.03880769 0.04736083 0.05602064 0.0272966  0.02962443\n",
      " 0.04212584 0.04240411 0.02653396 0.02241655 0.03820975 0.04017026\n",
      " 0.01819807 0.03361332 0.03380672 0.04582831 0.02069673 0.03582936\n",
      " 0.02388413 0.0344771  0.03820267 0.03828915 0.03904898 0.0461901\n",
      " 0.04708729 0.05678702 0.048358   0.03211293 0.02770407 0.03293872\n",
      " 0.04669766 0.0309046  0.02181301 0.02985643 0.02747381 0.05284951\n",
      " 0.03344455 0.02888048 0.0252947  0.03877268 0.02013985 0.01946064\n",
      " 0.02873069 0.02207094]\n"
     ]
    },
    {
     "data": {
      "application/vnd.jupyter.widget-view+json": {
       "model_id": "d382e8f1d9d14582b2acc6b50f1b0805",
       "version_major": 2,
       "version_minor": 0
      },
      "text/plain": [
       "  0%|          | 0/239 [00:00<?, ?it/s]"
      ]
     },
     "metadata": {},
     "output_type": "display_data"
    },
    {
     "name": "stdout",
     "output_type": "stream",
     "text": [
      "[4] Loss: [0.07432232 0.04493627 0.04294223 0.04096032 0.03906918 0.05358807\n",
      " 0.03667955 0.03302206 0.04028605 0.03529242 0.04998352 0.05795919\n",
      " 0.05518873 0.05120972 0.0525756  0.04548169 0.03581625 0.03640327\n",
      " 0.03020453 0.0397019  0.04524422 0.020797   0.03283569 0.03527138\n",
      " 0.04068377 0.02317345 0.02977543 0.03561272 0.03218897 0.0342539\n",
      " 0.02013012 0.02912482 0.03491794 0.03500136 0.05594141 0.05024605\n",
      " 0.04663849 0.05703757 0.04874103 0.04875229 0.0503183  0.0423066\n",
      " 0.04426927 0.04531255 0.03774369 0.02892774 0.03318269 0.02866987\n",
      " 0.03315325 0.02994227 0.03539295 0.04820392 0.05243016 0.03742301\n",
      " 0.05655768 0.0722189  0.0211629  0.01800555 0.04090874 0.03662692\n",
      " 0.04305533 0.04159042 0.03205605 0.04015957 0.05638218 0.06665453\n",
      " 0.04358838 0.04146018 0.05579618 0.05330103 0.04072233 0.03358936\n",
      " 0.05197082 0.04254153 0.03696806 0.03605074 0.03581255 0.0426849\n",
      " 0.04062825 0.04444099 0.0418625  0.02843546 0.03404472 0.02711272\n",
      " 0.05813572 0.04098496 0.04770242 0.03558632 0.06245985 0.0484482\n",
      " 0.03753633 0.0461058  0.04276096 0.04174517 0.02999561 0.02195267\n",
      " 0.04593837 0.04663075 0.02981676 0.03351527 0.05738225 0.04637304\n",
      " 0.04625964 0.08334549 0.01943501 0.02305337 0.02326989 0.03883547\n",
      " 0.04988177 0.04760778 0.04822223 0.04099476 0.03916169 0.03896398\n",
      " 0.01979573 0.02858279 0.03074258 0.02826204 0.04056517 0.02428099\n",
      " 0.04539829 0.04052725 0.03283316 0.0262134  0.04213605 0.03557509\n",
      " 0.03969916 0.05186895]\n"
     ]
    },
    {
     "data": {
      "application/vnd.jupyter.widget-view+json": {
       "model_id": "0af451df983f415193a98c1228ea3665",
       "version_major": 2,
       "version_minor": 0
      },
      "text/plain": [
       "  0%|          | 0/239 [00:00<?, ?it/s]"
      ]
     },
     "metadata": {},
     "output_type": "display_data"
    },
    {
     "name": "stdout",
     "output_type": "stream",
     "text": [
      "[5] Loss: [0.04530404 0.06506164 0.02913353 0.03491594 0.05039276 0.05554381\n",
      " 0.03593262 0.04023889 0.05723673 0.05027205 0.04109735 0.03817065\n",
      " 0.0298716  0.03176341 0.04523849 0.03366725 0.03512605 0.04500847\n",
      " 0.02953389 0.04669889 0.04236947 0.05278236 0.06045643 0.03392676\n",
      " 0.04538282 0.03654708 0.02728711 0.02864299 0.03663272 0.03013776\n",
      " 0.0242861  0.02630979 0.03278621 0.02076043 0.04418003 0.03399241\n",
      " 0.02503235 0.03080395 0.06749966 0.07030056 0.03570505 0.04772815\n",
      " 0.05695973 0.05585954 0.03430215 0.04935735 0.03622068 0.03977071\n",
      " 0.05536965 0.03950199 0.06537244 0.04659582 0.0355219  0.02867193\n",
      " 0.02926116 0.0245997  0.03663009 0.03199714 0.05411894 0.05270815\n",
      " 0.07208761 0.07046887 0.04352183 0.04116809 0.04003951 0.03262783\n",
      " 0.02278956 0.036877   0.04348972 0.04031864 0.02613353 0.03116534\n",
      " 0.05848362 0.04721993 0.03004063 0.03663519 0.03499538 0.03794961\n",
      " 0.04152729 0.05391518 0.04455994 0.04360804 0.04890003 0.0486824\n",
      " 0.01865504 0.02369533 0.02997198 0.02785135 0.03031466 0.03550636\n",
      " 0.0399039  0.05349348 0.04611593 0.05382195 0.04627553 0.05376904\n",
      " 0.03194056 0.03315827 0.04456079 0.05249447 0.05143211 0.05044486\n",
      " 0.03368358 0.02860545 0.04295906 0.05247881 0.05253577 0.04111684\n",
      " 0.03264202 0.02864111 0.06096176 0.05774888 0.05334632 0.06216969\n",
      " 0.04541509 0.03236055 0.04942383 0.04028185 0.05546625 0.05361592\n",
      " 0.04425653 0.04413172 0.0599429  0.07177926 0.04896237 0.06772725\n",
      " 0.0310637  0.03279006]\n"
     ]
    },
    {
     "ename": "TypeError",
     "evalue": "get_policy_architecture() got an unexpected keyword argument 'pretrain'",
     "output_type": "error",
     "traceback": [
      "\u001b[0;31m---------------------------------------------------------------------------\u001b[0m",
      "\u001b[0;31mTypeError\u001b[0m                                 Traceback (most recent call last)",
      "\u001b[0;32m<ipython-input-21-0b5dad58ac8a>\u001b[0m in \u001b[0;36m<module>\u001b[0;34m\u001b[0m\n\u001b[1;32m     13\u001b[0m     \u001b[0mout\u001b[0m \u001b[0;34m=\u001b[0m \u001b[0mhead\u001b[0m\u001b[0;34m.\u001b[0m\u001b[0mmodel\u001b[0m\u001b[0;34m.\u001b[0m\u001b[0mlayers\u001b[0m\u001b[0;34m[\u001b[0m\u001b[0;34m-\u001b[0m\u001b[0;36m2\u001b[0m\u001b[0;34m]\u001b[0m\u001b[0;34m.\u001b[0m\u001b[0moutput\u001b[0m\u001b[0;34m\u001b[0m\u001b[0;34m\u001b[0m\u001b[0m\n\u001b[1;32m     14\u001b[0m     \u001b[0mvision\u001b[0m \u001b[0;34m=\u001b[0m \u001b[0mtf\u001b[0m\u001b[0;34m.\u001b[0m\u001b[0mkeras\u001b[0m\u001b[0;34m.\u001b[0m\u001b[0mModel\u001b[0m\u001b[0;34m(\u001b[0m\u001b[0minputs\u001b[0m\u001b[0;34m=\u001b[0m\u001b[0mhead\u001b[0m\u001b[0;34m.\u001b[0m\u001b[0mmodel\u001b[0m\u001b[0;34m.\u001b[0m\u001b[0minput\u001b[0m\u001b[0;34m,\u001b[0m \u001b[0moutputs\u001b[0m\u001b[0;34m=\u001b[0m\u001b[0mout\u001b[0m\u001b[0;34m)\u001b[0m\u001b[0;34m\u001b[0m\u001b[0;34m\u001b[0m\u001b[0m\n\u001b[0;32m---> 15\u001b[0;31m     \u001b[0mpretrained_model\u001b[0m \u001b[0;34m=\u001b[0m \u001b[0mget_policy_architecture\u001b[0m\u001b[0;34m(\u001b[0m\u001b[0menv_name\u001b[0m\u001b[0;34m,\u001b[0m \u001b[0malgo\u001b[0m\u001b[0;34m=\u001b[0m\u001b[0malgo\u001b[0m\u001b[0;34m,\u001b[0m \u001b[0mpretrain\u001b[0m\u001b[0;34m=\u001b[0m\u001b[0mvision\u001b[0m\u001b[0;34m)\u001b[0m\u001b[0;34m\u001b[0m\u001b[0;34m\u001b[0m\u001b[0m\n\u001b[0m",
      "\u001b[0;31mTypeError\u001b[0m: get_policy_architecture() got an unexpected keyword argument 'pretrain'"
     ]
    }
   ],
   "source": [
    "pretrain = True\n",
    "if pretrain and action == 'train': # only necessary for tasks on raw pixels (vision)\n",
    "    model = get_vision_architecture(env_name)\n",
    "    out = tf.keras.layers.Dense(16, activation=None)(model.output)\n",
    "    embed = tf.keras.Model(inputs=model.input, outputs=out)\n",
    "    # get some data from random interactions with the env\n",
    "    for i in tqdm(range(500)):\n",
    "        collect_rollout(env, t_max, lambda x: np.random.choice(4))\n",
    "    print(\"Collected {} samples\".format(len(p_buf)))\n",
    "    head = ConvHead(embed, p_buf)\n",
    "    head.train(6)\n",
    "    \n",
    "    out = head.model.layers[-2].output\n",
    "    vision = tf.keras.Model(inputs=head.model.input, outputs=out)\n",
    "    pretrained_model = get_policy_architecture(env_name, algo=algo, head=vision)\n",
    "    agent.set_model(pretrained_model)"
   ]
  },
  {
   "cell_type": "code",
   "execution_count": 22,
   "metadata": {},
   "outputs": [],
   "source": [
    "pretrained_model = get_policy_architecture(env_name, algo=algo, head=vision)\n",
    "agent.set_model(pretrained_model)"
   ]
  },
  {
   "cell_type": "code",
   "execution_count": 23,
   "metadata": {},
   "outputs": [],
   "source": [
    "agent.load_from_checkpoint()\n",
    "hist = []"
   ]
  },
  {
   "cell_type": "code",
   "execution_count": null,
   "metadata": {},
   "outputs": [
    {
     "name": "stderr",
     "output_type": "stream",
     "text": [
      "100%|██████████| 500/500 [00:01<00:00, 469.00it/s]\n"
     ]
    },
    {
     "data": {
      "application/vnd.jupyter.widget-view+json": {
       "model_id": "43ea447b3ead4626bb63783fb484845e",
       "version_major": 2,
       "version_minor": 0
      },
      "text/plain": [
       "Training epochs:   0%|          | 0/20000 [00:00<?, ?it/s]"
      ]
     },
     "metadata": {},
     "output_type": "display_data"
    },
    {
     "name": "stdout",
     "output_type": "stream",
     "text": [
      "[5] Average reward: -1.0\n",
      "Predicted reward: [[-0.04494638 -0.06519236 -0.06496485 -0.09102722]]\n",
      "Buffer size: 14711\n",
      "Saving to checkpoint...\n",
      "[10] Average reward: -0.8\n",
      "Predicted reward: [[-0.0541863  -0.14556536 -0.15801829 -0.136219  ]]\n",
      "Buffer size: 14784\n",
      "Saving to checkpoint...\n",
      "[15] Average reward: -1.0\n",
      "Predicted reward: [[-0.21347167 -0.13125837 -0.06782893 -0.00234007]]\n",
      "Buffer size: 14910\n",
      "Saving to checkpoint...\n",
      "[20] Average reward: -0.8\n",
      "Predicted reward: [[ 0.04583263  0.02079096  0.09753878 -0.06431076]]\n",
      "Buffer size: 15035\n",
      "Saving to checkpoint...\n",
      "[25] Average reward: -0.8\n",
      "Predicted reward: [[0.02698723 0.07697456 0.06024702 0.012311  ]]\n",
      "Buffer size: 15109\n",
      "Saving to checkpoint...\n",
      "[30] Average reward: -1.0\n",
      "Predicted reward: [[-0.08768529 -0.06441404  0.01772811  0.02166178]]\n",
      "Buffer size: 15200\n",
      "Saving to checkpoint...\n",
      "[35] Average reward: -0.8\n",
      "Predicted reward: [[ 0.01833391 -0.02038789 -0.03147763 -0.02695323]]\n",
      "Buffer size: 15564\n",
      "Saving to checkpoint...\n",
      "[40] Average reward: -0.8\n",
      "Predicted reward: [[-0.19223754 -0.06608206  0.007042   -0.01262851]]\n",
      "Buffer size: 15681\n",
      "Saving to checkpoint...\n",
      "[45] Average reward: -0.4\n",
      "Predicted reward: [[-0.02475117 -0.00355025 -0.00675345 -0.02839131]]\n",
      "Buffer size: 15911\n",
      "Saving to checkpoint...\n",
      "[50] Average reward: -0.8\n",
      "Predicted reward: [[0.08655874 0.03437541 0.06975478 0.14901948]]\n",
      "Buffer size: 16039\n",
      "Saving to checkpoint...\n",
      "[55] Average reward: -1.0\n",
      "Predicted reward: [[ 0.01510919 -0.01456721 -0.01926888  0.04010547]]\n",
      "Buffer size: 16185\n",
      "Saving to checkpoint...\n",
      "[60] Average reward: -0.8\n",
      "Predicted reward: [[0.03743724 0.09551041 0.06959522 0.07537505]]\n",
      "Buffer size: 16397\n",
      "Saving to checkpoint...\n",
      "[65] Average reward: -0.8\n",
      "Predicted reward: [[ 0.04808287  0.04006907  0.19711092 -0.07331479]]\n",
      "Buffer size: 16859\n",
      "Saving to checkpoint...\n",
      "[70] Average reward: -0.2\n",
      "Predicted reward: [[0.06249483 0.12472645 0.08192513 0.12216235]]\n",
      "Buffer size: 17222\n",
      "Saving to checkpoint...\n",
      "[75] Average reward: -0.8\n",
      "Predicted reward: [[-0.06048379 -0.00623944 -0.11000162  0.02692064]]\n",
      "Buffer size: 17597\n",
      "Saving to checkpoint...\n",
      "[80] Average reward: -0.8\n",
      "Predicted reward: [[0.09069365 0.03012117 0.02143339 0.05330873]]\n",
      "Buffer size: 17888\n",
      "Saving to checkpoint...\n",
      "[85] Average reward: -0.8\n",
      "Predicted reward: [[-0.06439295 -0.01281399 -0.09234081  0.03668994]]\n",
      "Buffer size: 18033\n",
      "Saving to checkpoint...\n",
      "[90] Average reward: -0.8\n",
      "Predicted reward: [[-0.06998977 -0.03248804 -0.15843782 -0.06849221]]\n",
      "Buffer size: 18389\n",
      "Saving to checkpoint...\n",
      "[95] Average reward: -1.0\n",
      "Predicted reward: [[-0.11771903 -0.0972137  -0.04981591 -0.22212647]]\n",
      "Buffer size: 18690\n",
      "Saving to checkpoint...\n",
      "[100] Average reward: -1.0\n",
      "Predicted reward: [[-0.16565585 -0.08368784 -0.15334173 -0.13919972]]\n",
      "Buffer size: 19129\n",
      "Saving to checkpoint...\n",
      "[105] Average reward: 0.0\n",
      "Predicted reward: [[ 0.01124986 -0.12710325  0.05889088 -0.09446484]]\n",
      "Buffer size: 19649\n",
      "Saving to checkpoint...\n",
      "[110] Average reward: -0.6\n",
      "Predicted reward: [[-0.009432   -0.10776192 -0.07976258 -0.10572767]]\n",
      "Buffer size: 19943\n",
      "Saving to checkpoint...\n",
      "[115] Average reward: -0.6\n",
      "Predicted reward: [[-0.03742222 -0.04390427 -0.08617374 -0.05861397]]\n",
      "Buffer size: 20471\n",
      "Saving to checkpoint...\n",
      "[120] Average reward: -0.2\n",
      "Predicted reward: [[ 0.07286648 -0.17662135  0.17999735 -0.07489665]]\n",
      "Buffer size: 21610\n",
      "Saving to checkpoint...\n",
      "[125] Average reward: -0.6\n",
      "Predicted reward: [[0.01500536 0.02757137 0.2782065  0.01162981]]\n",
      "Buffer size: 21779\n",
      "Saving to checkpoint...\n",
      "[130] Average reward: -0.6\n",
      "Predicted reward: [[-0.4606644  -0.38912547 -0.314982   -0.3954177 ]]\n",
      "Buffer size: 22313\n",
      "Saving to checkpoint...\n",
      "[135] Average reward: -1.0\n",
      "Predicted reward: [[-0.20719072 -0.08560655 -0.37107992 -0.24213755]]\n",
      "Buffer size: 22445\n",
      "Saving to checkpoint...\n",
      "[140] Average reward: -0.8\n",
      "Predicted reward: [[ 0.01848845 -0.16610242 -0.02661467 -0.25149578]]\n",
      "Buffer size: 22616\n",
      "Saving to checkpoint...\n",
      "[145] Average reward: -0.8\n",
      "Predicted reward: [[ 0.17669506  0.15022273 -0.03179283  0.10356674]]\n",
      "Buffer size: 22987\n",
      "Saving to checkpoint...\n",
      "[150] Average reward: -1.0\n",
      "Predicted reward: [[-0.37799537 -0.2934404  -0.37506914 -0.292818  ]]\n",
      "Buffer size: 23130\n",
      "Saving to checkpoint...\n",
      "[155] Average reward: -0.4\n",
      "Predicted reward: [[-0.13098854 -0.08260166  0.02198058 -0.08240049]]\n",
      "Buffer size: 23361\n",
      "Saving to checkpoint...\n",
      "[160] Average reward: -0.2\n",
      "Predicted reward: [[-0.06770095 -0.10337371 -0.02752551 -0.00233561]]\n",
      "Buffer size: 23603\n",
      "Saving to checkpoint...\n"
     ]
    }
   ],
   "source": [
    "if action == 'train':\n",
    "    if 'DQN' in \"\\n\".join(algo):\n",
    "        # fill buffer with some random samples\n",
    "        for i in tqdm(range(500)):\n",
    "            agent.collect_rollout(t_max=t_max, policy=lambda x: np.random.choice(4), train=False, display=False)\n",
    "        #print(agent.epsilon)\n",
    "        #agent.epsilon = 0.05\n",
    "        hist += agent.train(epochs=config['train_epochs'], t_max=t_max, display=False)\n",
    "    elif 'PPO' in \"\\n\".join(algo):\n",
    "        agent.train(epochs=config['train_epochs'], t_max=t_max, buf_size=3000, min_buf_size=600, display=False)"
   ]
  },
  {
   "cell_type": "code",
   "execution_count": null,
   "metadata": {},
   "outputs": [],
   "source": [
    "from matplotlib import pyplot as plt\n",
    "a = hist[::1]\n",
    "plt.plot(range(len(a)), a)\n",
    "plt.show()"
   ]
  },
  {
   "cell_type": "code",
   "execution_count": null,
   "metadata": {},
   "outputs": [],
   "source": [
    "def test_rollout(t_max, env, close=True):\n",
    "    import sys\n",
    "    obs = agent.preprocess(env.reset())\n",
    "    reward = 0\n",
    "    for i in range(t_max):\n",
    "        # print(agent.get_policy(obs))\n",
    "        # act = agent.get_action(obs, greedy=True)[0]\n",
    "        act = agent.get_action(obs, mode='greedy')[0][0]\n",
    "        obs, r, dn, info = env.step(agent.action_wrapper(act))\n",
    "        env.render()\n",
    "        print(act, file=sys.stderr)\n",
    "        time.sleep(0.05)\n",
    "        obs = agent.preprocess(obs)\n",
    "        reward += r\n",
    "        if dn:\n",
    "            break\n",
    "\n",
    "    print(\"Total reward: {}\".format(reward), file=sys.stderr)\n",
    "    if close: env.close()"
   ]
  },
  {
   "cell_type": "code",
   "execution_count": null,
   "metadata": {},
   "outputs": [],
   "source": [
    "if action == 'test':\n",
    "    test_rollout(10000, env, close=True)"
   ]
  },
  {
   "cell_type": "code",
   "execution_count": null,
   "metadata": {},
   "outputs": [],
   "source": [
    "# agent.train(4, t_max=500, min_buf_size=10)"
   ]
  },
  {
   "cell_type": "code",
   "execution_count": null,
   "metadata": {},
   "outputs": [],
   "source": [
    "# %lprun -f agent.train agent.train(1, t_max=500, buf_size=2000, min_buf_size=10)"
   ]
  },
  {
   "cell_type": "code",
   "execution_count": null,
   "metadata": {},
   "outputs": [],
   "source": []
  }
 ],
 "metadata": {
  "kernelspec": {
   "display_name": "Python 3",
   "language": "python",
   "name": "python3"
  },
  "language_info": {
   "codemirror_mode": {
    "name": "ipython",
    "version": 3
   },
   "file_extension": ".py",
   "mimetype": "text/x-python",
   "name": "python",
   "nbconvert_exporter": "python",
   "pygments_lexer": "ipython3",
   "version": "3.8.10"
  }
 },
 "nbformat": 4,
 "nbformat_minor": 4
}

{
 "cells": [
  {
   "cell_type": "code",
   "execution_count": 1,
   "metadata": {},
   "outputs": [],
   "source": [
    "import gym\n",
    "import tensorflow as tf\n",
    "import numpy as np\n",
    "import sys\n",
    "import time\n",
    "import gym_snake\n",
    "import json\n",
    "import os\n",
    "import importlib\n",
    "import random\n",
    "from PIL import Image\n",
    "\n",
    "sys.path.insert(0, '..')\n",
    "from algos.PPO import PPO_agent\n",
    "\n",
    "%load_ext line_profiler\n",
    "%matplotlib notebook"
   ]
  },
  {
   "cell_type": "code",
   "execution_count": 2,
   "metadata": {},
   "outputs": [
    {
     "name": "stdout",
     "output_type": "stream",
     "text": [
      "pygame 2.0.1 (SDL 2.0.14, Python 3.8.3)\n",
      "Hello from the pygame community. https://www.pygame.org/contribute.html\n"
     ]
    }
   ],
   "source": [
    "tetris = importlib.import_module('pytris-effect.src.gameui')"
   ]
  },
  {
   "cell_type": "code",
   "execution_count": 3,
   "metadata": {},
   "outputs": [],
   "source": [
    "run_name = 'tetris'\n",
    "action = 'train'"
   ]
  },
  {
   "cell_type": "code",
   "execution_count": 4,
   "metadata": {},
   "outputs": [],
   "source": [
    "cfg_fp = os.path.join('..', 'configs', run_name + '.json')\n",
    "with open(cfg_fp, 'r') as f:\n",
    "    config = json.load(f)\n",
    "ckpt_folder = os.path.join('..', 'checkpoints')"
   ]
  },
  {
   "cell_type": "code",
   "execution_count": 5,
   "metadata": {},
   "outputs": [],
   "source": [
    "env_name = config['env']\n",
    "if run_name == 'tetris':\n",
    "    env = tetris.GameUI(graphic_mode=False, its_per_sec=2, sec_per_tick=0.5)\n",
    "else:\n",
    "    env = gym.make(env_name).env if 'use_raw_env' in config else gym.make(env_name)"
   ]
  },
  {
   "cell_type": "code",
   "execution_count": 6,
   "metadata": {},
   "outputs": [
    {
     "name": "stdout",
     "output_type": "stream",
     "text": [
      "['']\n"
     ]
    },
    {
     "data": {
      "text/plain": [
       "(20, 10, 3)"
      ]
     },
     "execution_count": 6,
     "metadata": {},
     "output_type": "execute_result"
    }
   ],
   "source": [
    "env.reset().shape"
   ]
  },
  {
   "cell_type": "code",
   "execution_count": 7,
   "metadata": {},
   "outputs": [],
   "source": [
    "def show_img(arr):\n",
    "    scaling = 30\n",
    "    data = np.zeros((scaling*arr.shape[0], scaling*arr.shape[1], 3), dtype=np.uint8)\n",
    "    for i in range(data.shape[0]):\n",
    "        for j in range(data.shape[1]):\n",
    "            for k in range(data.shape[2]):\n",
    "                data[i,j,k] = arr[i//scaling,j//scaling,k]\n",
    "    img = Image.fromarray(data, 'RGB')\n",
    "    # img.save('my.png')\n",
    "    img.show()"
   ]
  },
  {
   "cell_type": "code",
   "execution_count": 8,
   "metadata": {},
   "outputs": [],
   "source": [
    "if action == 'evaluate':\n",
    "    %lprun -f env.drawMatrix env.drawMatrix()"
   ]
  },
  {
   "cell_type": "code",
   "execution_count": 9,
   "metadata": {},
   "outputs": [],
   "source": [
    "#show_img(env.reset())"
   ]
  },
  {
   "cell_type": "code",
   "execution_count": 10,
   "metadata": {},
   "outputs": [],
   "source": [
    "if False:\n",
    "    action = 1\n",
    "    obs, reward, dn, info = env.step(action)\n",
    "    show_img(obs)\n",
    "    print(reward, dn, info)"
   ]
  },
  {
   "cell_type": "code",
   "execution_count": 11,
   "metadata": {},
   "outputs": [],
   "source": [
    "def do_step():\n",
    "    _, _, dn, _ = env.step(random.choice(range(7)))\n",
    "    if dn:\n",
    "        env.reset()"
   ]
  },
  {
   "cell_type": "code",
   "execution_count": 12,
   "metadata": {},
   "outputs": [],
   "source": [
    "#%timeit env.reset()"
   ]
  },
  {
   "cell_type": "code",
   "execution_count": 13,
   "metadata": {},
   "outputs": [],
   "source": [
    "#%timeit do_step()"
   ]
  },
  {
   "cell_type": "code",
   "execution_count": 14,
   "metadata": {},
   "outputs": [],
   "source": [
    "#%lprun -f env.get_obs do_step()"
   ]
  },
  {
   "cell_type": "code",
   "execution_count": 15,
   "metadata": {},
   "outputs": [],
   "source": [
    "if env_name == \"CartPole-v0\":\n",
    "    model = tf.keras.Sequential([\n",
    "        tf.keras.Input(shape=(4,)),\n",
    "        tf.keras.layers.Dense(16, activation='relu'),\n",
    "        tf.keras.layers.Dense(16, activation='relu'),\n",
    "        tf.keras.layers.Dense(2, activation='softmax')\n",
    "    ])\n",
    "    value = tf.keras.Sequential([\n",
    "        tf.keras.Input(shape=(4,)),\n",
    "        tf.keras.layers.Dense(16, activation='relu'),\n",
    "        tf.keras.layers.Dense(16, activation='relu'),\n",
    "        tf.keras.layers.Dense(1, activation=None)\n",
    "    ])\n",
    "elif env_name == \"MountainCar-v0\":\n",
    "    model = tf.keras.Sequential([\n",
    "        tf.keras.Input(shape=(2,)),\n",
    "        tf.keras.layers.Dense(16, activation='relu'),\n",
    "        tf.keras.layers.Dense(16, activation='relu'),\n",
    "        tf.keras.layers.Dense(3, activation='softmax')\n",
    "    ])\n",
    "elif env_name == \"Acrobot-v1\":\n",
    "    model = tf.keras.Sequential([\n",
    "        tf.keras.Input(shape=(6,)),\n",
    "        tf.keras.layers.Dense(32, activation='relu'),\n",
    "        tf.keras.layers.Dense(48, activation='relu'),\n",
    "        tf.keras.layers.Dense(16, activation='relu'),\n",
    "        tf.keras.layers.Dense(3, activation='softmax')\n",
    "    ])\n",
    "    value = tf.keras.Sequential([\n",
    "        tf.keras.Input(shape=(6,)),\n",
    "        tf.keras.layers.Dense(32, activation='relu'),\n",
    "        tf.keras.layers.Dense(48, activation='relu'),\n",
    "        tf.keras.layers.Dense(16, activation='relu'),\n",
    "        tf.keras.layers.Dense(1, activation=None)\n",
    "    ])\n",
    "elif env_name == \"gym_snake:snake-v0\":\n",
    "    model = tf.keras.Sequential([\n",
    "        tf.keras.Input(shape=(15, 15, 3)),\n",
    "        tf.keras.layers.Conv2D(32, (3, 3), activation='relu'),\n",
    "        #tf.keras.layers.Conv2D(64, (3, 3), activation='relu'),\n",
    "        tf.keras.layers.Flatten(),\n",
    "        tf.keras.layers.Dense(256, activation='relu'),\n",
    "        tf.keras.layers.Dense(64, activation='relu'),\n",
    "        #tf.keras.layers.Dense(32, activation='relu'),\n",
    "        tf.keras.layers.Dense(4, activation='softmax')\n",
    "    ])\n",
    "    value = tf.keras.Sequential([\n",
    "        tf.keras.Input(shape=(15, 15, 3)),\n",
    "        tf.keras.layers.Conv2D(32, (3, 3), activation='relu'),\n",
    "        #tf.keras.layers.Conv2D(64, (3, 3), activation='relu'),\n",
    "        tf.keras.layers.Flatten(),\n",
    "        tf.keras.layers.Dense(256, activation='relu'),\n",
    "        tf.keras.layers.Dense(64, activation='relu'),\n",
    "        #tf.keras.layers.Dense(32, activation='relu'),\n",
    "        tf.keras.layers.Dense(1, activation=None)\n",
    "    ])\n",
    "elif env_name == \"tetris\":  # the final raid boss\n",
    "    model = tf.keras.Sequential([\n",
    "        tf.keras.Input(shape=(20,10,3)),\n",
    "        tf.keras.layers.Conv2D(32, (2, 2), activation='elu', padding='same'),\n",
    "        tf.keras.layers.Conv2D(64, (3, 3), activation='elu', padding='valid'), # new addition\n",
    "        tf.keras.layers.Flatten(),\n",
    "        #tf.keras.layers.Dense(1024, activation='relu'),\n",
    "        tf.keras.layers.Dense(256, activation='elu'),\n",
    "        tf.keras.layers.Dense(64, activation='elu'),\n",
    "        tf.keras.layers.Dense(7, activation='softmax') # NO-OP is an action\n",
    "    ])\n",
    "    value = tf.keras.Sequential([\n",
    "        tf.keras.Input(shape=(20,10,3)),\n",
    "        tf.keras.layers.Conv2D(32, (2, 2), activation='elu', padding='same'),\n",
    "        tf.keras.layers.Conv2D(64, (3, 3), activation='elu', padding='valid'), # new addition\n",
    "        tf.keras.layers.Flatten(),\n",
    "        #tf.keras.layers.Dense(1024, activation='relu'),\n",
    "        tf.keras.layers.Dense(256, activation='elu'),\n",
    "        tf.keras.layers.Dense(64, activation='elu'),\n",
    "        tf.keras.layers.Dense(1, activation=None)\n",
    "    ])"
   ]
  },
  {
   "cell_type": "code",
   "execution_count": 16,
   "metadata": {},
   "outputs": [],
   "source": [
    "agent = PPO_agent(\n",
    "    model,\n",
    "    value,\n",
    "    env=env,\n",
    "    learning_rate=config['learning_rate'],\n",
    "    minibatch_size=20, #config['minibatch_size'],\n",
    "    epsilon=0.1,\n",
    "    env_name=config['env_name'],\n",
    "    run_name='tetris-test11', # 'snake-PPO-23-33-21'\n",
    "    ckpt_folder=ckpt_folder\n",
    ")"
   ]
  },
  {
   "cell_type": "code",
   "execution_count": 17,
   "metadata": {},
   "outputs": [],
   "source": [
    "t_max = config['t_max']"
   ]
  },
  {
   "cell_type": "code",
   "execution_count": 18,
   "metadata": {},
   "outputs": [],
   "source": [
    "agent.load_from_checkpoint()"
   ]
  },
  {
   "cell_type": "code",
   "execution_count": 19,
   "metadata": {},
   "outputs": [
    {
     "data": {
      "application/vnd.jupyter.widget-view+json": {
       "model_id": "86e4c4ad83bb45d8bd47d0f1c4923a6f",
       "version_major": 2,
       "version_minor": 0
      },
      "text/plain": [
       "Training epochs:   0%|          | 0/1000 [00:00<?, ?it/s]"
      ]
     },
     "metadata": {},
     "output_type": "display_data"
    },
    {
     "name": "stdout",
     "output_type": "stream",
     "text": [
      "[<tf.Tensor 'gradient_tape/sequential/conv2d/Conv2D_1/Conv2DBackpropFilter:0' shape=(2, 2, 3, 32) dtype=float32>, <tf.Tensor 'gradient_tape/sequential/conv2d/BiasAdd_1/BiasAddGrad:0' shape=(32,) dtype=float32>, <tf.Tensor 'gradient_tape/sequential/conv2d_1/Conv2D_1/Conv2DBackpropFilter:0' shape=(3, 3, 32, 64) dtype=float32>, <tf.Tensor 'gradient_tape/sequential/conv2d_1/BiasAdd_1/BiasAddGrad:0' shape=(64,) dtype=float32>, <tf.Tensor 'gradient_tape/sequential/dense/MatMul_1:0' shape=(9216, 256) dtype=float32>, <tf.Tensor 'gradient_tape/sequential/dense/BiasAdd_1/BiasAddGrad:0' shape=(256,) dtype=float32>, <tf.Tensor 'gradient_tape/sequential/dense_1/MatMul_1:0' shape=(256, 64) dtype=float32>, <tf.Tensor 'gradient_tape/sequential/dense_1/BiasAdd_1/BiasAddGrad:0' shape=(64,) dtype=float32>, <tf.Tensor 'gradient_tape/sequential/dense_2/MatMul_1:0' shape=(64, 7) dtype=float32>, <tf.Tensor 'gradient_tape/sequential/dense_2/BiasAdd_1/BiasAddGrad:0' shape=(7,) dtype=float32>]\n",
      "[<tf.Tensor 'gradient_tape/sequential/conv2d/Conv2D_2/Conv2DBackpropFilter:0' shape=(2, 2, 3, 32) dtype=float32>, <tf.Tensor 'gradient_tape/sequential/conv2d/BiasAdd_2/BiasAddGrad:0' shape=(32,) dtype=float32>, <tf.Tensor 'gradient_tape/sequential/conv2d_1/Conv2D_2/Conv2DBackpropFilter:0' shape=(3, 3, 32, 64) dtype=float32>, <tf.Tensor 'gradient_tape/sequential/conv2d_1/BiasAdd_2/BiasAddGrad:0' shape=(64,) dtype=float32>, <tf.Tensor 'gradient_tape/sequential/dense/MatMul_3:0' shape=(9216, 256) dtype=float32>, <tf.Tensor 'gradient_tape/sequential/dense/BiasAdd_2/BiasAddGrad:0' shape=(256,) dtype=float32>, <tf.Tensor 'gradient_tape/sequential/dense_1/MatMul_3:0' shape=(256, 64) dtype=float32>, <tf.Tensor 'gradient_tape/sequential/dense_1/BiasAdd_2/BiasAddGrad:0' shape=(64,) dtype=float32>, <tf.Tensor 'gradient_tape/sequential/dense_2/MatMul_3:0' shape=(64, 7) dtype=float32>, <tf.Tensor 'gradient_tape/sequential/dense_2/BiasAdd_2/BiasAddGrad:0' shape=(7,) dtype=float32>]\n",
      "[<tf.Tensor 'gradient_tape/sequential/conv2d/Conv2D_3/Conv2DBackpropFilter:0' shape=(2, 2, 3, 32) dtype=float32>, <tf.Tensor 'gradient_tape/sequential/conv2d/BiasAdd_3/BiasAddGrad:0' shape=(32,) dtype=float32>, <tf.Tensor 'gradient_tape/sequential/conv2d_1/Conv2D_3/Conv2DBackpropFilter:0' shape=(3, 3, 32, 64) dtype=float32>, <tf.Tensor 'gradient_tape/sequential/conv2d_1/BiasAdd_3/BiasAddGrad:0' shape=(64,) dtype=float32>, <tf.Tensor 'gradient_tape/sequential/dense/MatMul_5:0' shape=(9216, 256) dtype=float32>, <tf.Tensor 'gradient_tape/sequential/dense/BiasAdd_3/BiasAddGrad:0' shape=(256,) dtype=float32>, <tf.Tensor 'gradient_tape/sequential/dense_1/MatMul_5:0' shape=(256, 64) dtype=float32>, <tf.Tensor 'gradient_tape/sequential/dense_1/BiasAdd_3/BiasAddGrad:0' shape=(64,) dtype=float32>, <tf.Tensor 'gradient_tape/sequential/dense_2/MatMul_5:0' shape=(64, 7) dtype=float32>, <tf.Tensor 'gradient_tape/sequential/dense_2/BiasAdd_3/BiasAddGrad:0' shape=(7,) dtype=float32>]\n",
      "[<tf.Tensor 'gradient_tape/sequential/conv2d/Conv2D_4/Conv2DBackpropFilter:0' shape=(2, 2, 3, 32) dtype=float32>, <tf.Tensor 'gradient_tape/sequential/conv2d/BiasAdd_4/BiasAddGrad:0' shape=(32,) dtype=float32>, <tf.Tensor 'gradient_tape/sequential/conv2d_1/Conv2D_4/Conv2DBackpropFilter:0' shape=(3, 3, 32, 64) dtype=float32>, <tf.Tensor 'gradient_tape/sequential/conv2d_1/BiasAdd_4/BiasAddGrad:0' shape=(64,) dtype=float32>, <tf.Tensor 'gradient_tape/sequential/dense/MatMul_7:0' shape=(9216, 256) dtype=float32>, <tf.Tensor 'gradient_tape/sequential/dense/BiasAdd_4/BiasAddGrad:0' shape=(256,) dtype=float32>, <tf.Tensor 'gradient_tape/sequential/dense_1/MatMul_7:0' shape=(256, 64) dtype=float32>, <tf.Tensor 'gradient_tape/sequential/dense_1/BiasAdd_4/BiasAddGrad:0' shape=(64,) dtype=float32>, <tf.Tensor 'gradient_tape/sequential/dense_2/MatMul_7:0' shape=(64, 7) dtype=float32>, <tf.Tensor 'gradient_tape/sequential/dense_2/BiasAdd_4/BiasAddGrad:0' shape=(7,) dtype=float32>]\n",
      "[<tf.Tensor 'gradient_tape/sequential/conv2d/Conv2D_5/Conv2DBackpropFilter:0' shape=(2, 2, 3, 32) dtype=float32>, <tf.Tensor 'gradient_tape/sequential/conv2d/BiasAdd_5/BiasAddGrad:0' shape=(32,) dtype=float32>, <tf.Tensor 'gradient_tape/sequential/conv2d_1/Conv2D_5/Conv2DBackpropFilter:0' shape=(3, 3, 32, 64) dtype=float32>, <tf.Tensor 'gradient_tape/sequential/conv2d_1/BiasAdd_5/BiasAddGrad:0' shape=(64,) dtype=float32>, <tf.Tensor 'gradient_tape/sequential/dense/MatMul_9:0' shape=(9216, 256) dtype=float32>, <tf.Tensor 'gradient_tape/sequential/dense/BiasAdd_5/BiasAddGrad:0' shape=(256,) dtype=float32>, <tf.Tensor 'gradient_tape/sequential/dense_1/MatMul_9:0' shape=(256, 64) dtype=float32>, <tf.Tensor 'gradient_tape/sequential/dense_1/BiasAdd_5/BiasAddGrad:0' shape=(64,) dtype=float32>, <tf.Tensor 'gradient_tape/sequential/dense_2/MatMul_9:0' shape=(64, 7) dtype=float32>, <tf.Tensor 'gradient_tape/sequential/dense_2/BiasAdd_5/BiasAddGrad:0' shape=(7,) dtype=float32>]\n",
      "[<tf.Tensor 'gradient_tape/sequential/conv2d/Conv2D_1/Conv2DBackpropFilter:0' shape=(2, 2, 3, 32) dtype=float32>, <tf.Tensor 'gradient_tape/sequential/conv2d/BiasAdd_1/BiasAddGrad:0' shape=(32,) dtype=float32>, <tf.Tensor 'gradient_tape/sequential/conv2d_1/Conv2D_1/Conv2DBackpropFilter:0' shape=(3, 3, 32, 64) dtype=float32>, <tf.Tensor 'gradient_tape/sequential/conv2d_1/BiasAdd_1/BiasAddGrad:0' shape=(64,) dtype=float32>, <tf.Tensor 'gradient_tape/sequential/dense/MatMul_1:0' shape=(9216, 256) dtype=float32>, <tf.Tensor 'gradient_tape/sequential/dense/BiasAdd_1/BiasAddGrad:0' shape=(256,) dtype=float32>, <tf.Tensor 'gradient_tape/sequential/dense_1/MatMul_1:0' shape=(256, 64) dtype=float32>, <tf.Tensor 'gradient_tape/sequential/dense_1/BiasAdd_1/BiasAddGrad:0' shape=(64,) dtype=float32>, <tf.Tensor 'gradient_tape/sequential/dense_2/MatMul_1:0' shape=(64, 7) dtype=float32>, <tf.Tensor 'gradient_tape/sequential/dense_2/BiasAdd_1/BiasAddGrad:0' shape=(7,) dtype=float32>]\n",
      "[<tf.Tensor 'gradient_tape/sequential/conv2d/Conv2D_2/Conv2DBackpropFilter:0' shape=(2, 2, 3, 32) dtype=float32>, <tf.Tensor 'gradient_tape/sequential/conv2d/BiasAdd_2/BiasAddGrad:0' shape=(32,) dtype=float32>, <tf.Tensor 'gradient_tape/sequential/conv2d_1/Conv2D_2/Conv2DBackpropFilter:0' shape=(3, 3, 32, 64) dtype=float32>, <tf.Tensor 'gradient_tape/sequential/conv2d_1/BiasAdd_2/BiasAddGrad:0' shape=(64,) dtype=float32>, <tf.Tensor 'gradient_tape/sequential/dense/MatMul_3:0' shape=(9216, 256) dtype=float32>, <tf.Tensor 'gradient_tape/sequential/dense/BiasAdd_2/BiasAddGrad:0' shape=(256,) dtype=float32>, <tf.Tensor 'gradient_tape/sequential/dense_1/MatMul_3:0' shape=(256, 64) dtype=float32>, <tf.Tensor 'gradient_tape/sequential/dense_1/BiasAdd_2/BiasAddGrad:0' shape=(64,) dtype=float32>, <tf.Tensor 'gradient_tape/sequential/dense_2/MatMul_3:0' shape=(64, 7) dtype=float32>, <tf.Tensor 'gradient_tape/sequential/dense_2/BiasAdd_2/BiasAddGrad:0' shape=(7,) dtype=float32>]\n",
      "[<tf.Tensor 'gradient_tape/sequential/conv2d/Conv2D_3/Conv2DBackpropFilter:0' shape=(2, 2, 3, 32) dtype=float32>, <tf.Tensor 'gradient_tape/sequential/conv2d/BiasAdd_3/BiasAddGrad:0' shape=(32,) dtype=float32>, <tf.Tensor 'gradient_tape/sequential/conv2d_1/Conv2D_3/Conv2DBackpropFilter:0' shape=(3, 3, 32, 64) dtype=float32>, <tf.Tensor 'gradient_tape/sequential/conv2d_1/BiasAdd_3/BiasAddGrad:0' shape=(64,) dtype=float32>, <tf.Tensor 'gradient_tape/sequential/dense/MatMul_5:0' shape=(9216, 256) dtype=float32>, <tf.Tensor 'gradient_tape/sequential/dense/BiasAdd_3/BiasAddGrad:0' shape=(256,) dtype=float32>, <tf.Tensor 'gradient_tape/sequential/dense_1/MatMul_5:0' shape=(256, 64) dtype=float32>, <tf.Tensor 'gradient_tape/sequential/dense_1/BiasAdd_3/BiasAddGrad:0' shape=(64,) dtype=float32>, <tf.Tensor 'gradient_tape/sequential/dense_2/MatMul_5:0' shape=(64, 7) dtype=float32>, <tf.Tensor 'gradient_tape/sequential/dense_2/BiasAdd_3/BiasAddGrad:0' shape=(7,) dtype=float32>]\n",
      "[<tf.Tensor 'gradient_tape/sequential/conv2d/Conv2D_4/Conv2DBackpropFilter:0' shape=(2, 2, 3, 32) dtype=float32>, <tf.Tensor 'gradient_tape/sequential/conv2d/BiasAdd_4/BiasAddGrad:0' shape=(32,) dtype=float32>, <tf.Tensor 'gradient_tape/sequential/conv2d_1/Conv2D_4/Conv2DBackpropFilter:0' shape=(3, 3, 32, 64) dtype=float32>, <tf.Tensor 'gradient_tape/sequential/conv2d_1/BiasAdd_4/BiasAddGrad:0' shape=(64,) dtype=float32>, <tf.Tensor 'gradient_tape/sequential/dense/MatMul_7:0' shape=(9216, 256) dtype=float32>, <tf.Tensor 'gradient_tape/sequential/dense/BiasAdd_4/BiasAddGrad:0' shape=(256,) dtype=float32>, <tf.Tensor 'gradient_tape/sequential/dense_1/MatMul_7:0' shape=(256, 64) dtype=float32>, <tf.Tensor 'gradient_tape/sequential/dense_1/BiasAdd_4/BiasAddGrad:0' shape=(64,) dtype=float32>, <tf.Tensor 'gradient_tape/sequential/dense_2/MatMul_7:0' shape=(64, 7) dtype=float32>, <tf.Tensor 'gradient_tape/sequential/dense_2/BiasAdd_4/BiasAddGrad:0' shape=(7,) dtype=float32>]\n"
     ]
    },
    {
     "name": "stdout",
     "output_type": "stream",
     "text": [
      "[<tf.Tensor 'gradient_tape/sequential/conv2d/Conv2D_5/Conv2DBackpropFilter:0' shape=(2, 2, 3, 32) dtype=float32>, <tf.Tensor 'gradient_tape/sequential/conv2d/BiasAdd_5/BiasAddGrad:0' shape=(32,) dtype=float32>, <tf.Tensor 'gradient_tape/sequential/conv2d_1/Conv2D_5/Conv2DBackpropFilter:0' shape=(3, 3, 32, 64) dtype=float32>, <tf.Tensor 'gradient_tape/sequential/conv2d_1/BiasAdd_5/BiasAddGrad:0' shape=(64,) dtype=float32>, <tf.Tensor 'gradient_tape/sequential/dense/MatMul_9:0' shape=(9216, 256) dtype=float32>, <tf.Tensor 'gradient_tape/sequential/dense/BiasAdd_5/BiasAddGrad:0' shape=(256,) dtype=float32>, <tf.Tensor 'gradient_tape/sequential/dense_1/MatMul_9:0' shape=(256, 64) dtype=float32>, <tf.Tensor 'gradient_tape/sequential/dense_1/BiasAdd_5/BiasAddGrad:0' shape=(64,) dtype=float32>, <tf.Tensor 'gradient_tape/sequential/dense_2/MatMul_9:0' shape=(64, 7) dtype=float32>, <tf.Tensor 'gradient_tape/sequential/dense_2/BiasAdd_5/BiasAddGrad:0' shape=(7,) dtype=float32>]\n"
     ]
    },
    {
     "ename": "KeyboardInterrupt",
     "evalue": "",
     "output_type": "error",
     "traceback": [
      "\u001b[1;31m---------------------------------------------------------------------------\u001b[0m",
      "\u001b[1;31mKeyboardInterrupt\u001b[0m                         Traceback (most recent call last)",
      "\u001b[1;32m<ipython-input-19-c65402a060c6>\u001b[0m in \u001b[0;36m<module>\u001b[1;34m\u001b[0m\n\u001b[0;32m      1\u001b[0m \u001b[1;32mif\u001b[0m \u001b[0maction\u001b[0m \u001b[1;33m==\u001b[0m \u001b[1;34m'train'\u001b[0m\u001b[1;33m:\u001b[0m\u001b[1;33m\u001b[0m\u001b[1;33m\u001b[0m\u001b[0m\n\u001b[1;32m----> 2\u001b[1;33m     \u001b[0magent\u001b[0m\u001b[1;33m.\u001b[0m\u001b[0mtrain\u001b[0m\u001b[1;33m(\u001b[0m\u001b[0mepochs\u001b[0m\u001b[1;33m=\u001b[0m\u001b[0mconfig\u001b[0m\u001b[1;33m[\u001b[0m\u001b[1;34m'train_epochs'\u001b[0m\u001b[1;33m]\u001b[0m\u001b[1;33m,\u001b[0m \u001b[0mt_max\u001b[0m\u001b[1;33m=\u001b[0m\u001b[0mt_max\u001b[0m\u001b[1;33m,\u001b[0m \u001b[0mbuf_size\u001b[0m\u001b[1;33m=\u001b[0m\u001b[1;36m3000\u001b[0m\u001b[1;33m,\u001b[0m \u001b[0mmin_buf_size\u001b[0m\u001b[1;33m=\u001b[0m\u001b[1;36m500\u001b[0m\u001b[1;33m)\u001b[0m\u001b[1;33m\u001b[0m\u001b[1;33m\u001b[0m\u001b[0m\n\u001b[0m",
      "\u001b[1;32m~\\OneDrive\\Documents\\ML\\RL\\algos\\Agent.py\u001b[0m in \u001b[0;36mtrain\u001b[1;34m(self, epochs, t_max, logging, buf_size, min_buf_size)\u001b[0m\n\u001b[0;32m    211\u001b[0m             \u001b[0mobs\u001b[0m\u001b[1;33m,\u001b[0m \u001b[0mact\u001b[0m\u001b[1;33m,\u001b[0m \u001b[0mval\u001b[0m \u001b[1;33m=\u001b[0m \u001b[1;33m[\u001b[0m\u001b[1;33m]\u001b[0m\u001b[1;33m,\u001b[0m \u001b[1;33m[\u001b[0m\u001b[1;33m]\u001b[0m\u001b[1;33m,\u001b[0m \u001b[1;33m[\u001b[0m\u001b[1;33m]\u001b[0m\u001b[1;33m\u001b[0m\u001b[1;33m\u001b[0m\u001b[0m\n\u001b[0;32m    212\u001b[0m             \u001b[1;32mfor\u001b[0m \u001b[0mi\u001b[0m \u001b[1;32min\u001b[0m \u001b[0mrange\u001b[0m\u001b[1;33m(\u001b[0m\u001b[0mself\u001b[0m\u001b[1;33m.\u001b[0m\u001b[0mminibatch_size\u001b[0m\u001b[1;33m)\u001b[0m\u001b[1;33m:\u001b[0m\u001b[1;33m\u001b[0m\u001b[1;33m\u001b[0m\u001b[0m\n\u001b[1;32m--> 213\u001b[1;33m                 \u001b[0mo\u001b[0m\u001b[1;33m,\u001b[0m \u001b[0ma\u001b[0m\u001b[1;33m,\u001b[0m \u001b[0mv\u001b[0m \u001b[1;33m=\u001b[0m \u001b[0mself\u001b[0m\u001b[1;33m.\u001b[0m\u001b[0mcollect_rollout\u001b[0m\u001b[1;33m(\u001b[0m\u001b[0mt_max\u001b[0m\u001b[1;33m=\u001b[0m\u001b[0mt_max\u001b[0m\u001b[1;33m,\u001b[0m \u001b[0msilenced\u001b[0m\u001b[1;33m=\u001b[0m\u001b[1;32mTrue\u001b[0m\u001b[1;33m)\u001b[0m\u001b[1;33m\u001b[0m\u001b[1;33m\u001b[0m\u001b[0m\n\u001b[0m\u001b[0;32m    214\u001b[0m                 \u001b[0mavg_reward\u001b[0m \u001b[1;33m+=\u001b[0m \u001b[0msum\u001b[0m\u001b[1;33m(\u001b[0m\u001b[0mv\u001b[0m\u001b[1;33m)\u001b[0m\u001b[1;33m\u001b[0m\u001b[1;33m\u001b[0m\u001b[0m\n\u001b[0;32m    215\u001b[0m                 \u001b[0mv\u001b[0m \u001b[1;33m=\u001b[0m \u001b[0mself\u001b[0m\u001b[1;33m.\u001b[0m\u001b[0mdiscount_rewards\u001b[0m\u001b[1;33m(\u001b[0m\u001b[0mv\u001b[0m\u001b[1;33m)\u001b[0m\u001b[1;33m\u001b[0m\u001b[1;33m\u001b[0m\u001b[0m\n",
      "\u001b[1;32m~\\OneDrive\\Documents\\ML\\RL\\algos\\Agent.py\u001b[0m in \u001b[0;36mcollect_rollout\u001b[1;34m(self, t_max, policy, silenced)\u001b[0m\n\u001b[0;32m    155\u001b[0m         \u001b[0mi\u001b[0m \u001b[1;33m=\u001b[0m \u001b[1;36m0\u001b[0m\u001b[1;33m\u001b[0m\u001b[1;33m\u001b[0m\u001b[0m\n\u001b[0;32m    156\u001b[0m         \u001b[1;32mwhile\u001b[0m \u001b[0mi\u001b[0m \u001b[1;33m!=\u001b[0m \u001b[0mt_max\u001b[0m\u001b[1;33m:\u001b[0m\u001b[1;33m\u001b[0m\u001b[1;33m\u001b[0m\u001b[0m\n\u001b[1;32m--> 157\u001b[1;33m             \u001b[0mact\u001b[0m \u001b[1;33m=\u001b[0m \u001b[0mself\u001b[0m\u001b[1;33m.\u001b[0m\u001b[0mget_action\u001b[0m\u001b[1;33m(\u001b[0m\u001b[0mobs\u001b[0m\u001b[1;33m)\u001b[0m\u001b[1;33m[\u001b[0m\u001b[1;36m0\u001b[0m\u001b[1;33m]\u001b[0m\u001b[1;33m[\u001b[0m\u001b[1;36m0\u001b[0m\u001b[1;33m]\u001b[0m \u001b[1;32mif\u001b[0m \u001b[0mpolicy\u001b[0m \u001b[1;32mis\u001b[0m \u001b[1;32mNone\u001b[0m \u001b[1;32melse\u001b[0m \u001b[0mpolicy\u001b[0m\u001b[1;33m(\u001b[0m\u001b[0mobs\u001b[0m\u001b[1;33m)\u001b[0m\u001b[1;33m\u001b[0m\u001b[1;33m\u001b[0m\u001b[0m\n\u001b[0m\u001b[0;32m    158\u001b[0m             \u001b[0moo\u001b[0m\u001b[1;33m,\u001b[0m \u001b[0mrr\u001b[0m\u001b[1;33m,\u001b[0m \u001b[0mdn\u001b[0m\u001b[1;33m,\u001b[0m \u001b[0minfo\u001b[0m \u001b[1;33m=\u001b[0m \u001b[0mself\u001b[0m\u001b[1;33m.\u001b[0m\u001b[0menv\u001b[0m\u001b[1;33m.\u001b[0m\u001b[0mstep\u001b[0m\u001b[1;33m(\u001b[0m\u001b[0mself\u001b[0m\u001b[1;33m.\u001b[0m\u001b[0maction_wrapper\u001b[0m\u001b[1;33m(\u001b[0m\u001b[0mact\u001b[0m\u001b[1;33m)\u001b[0m\u001b[1;33m)\u001b[0m\u001b[1;33m\u001b[0m\u001b[1;33m\u001b[0m\u001b[0m\n\u001b[0;32m    159\u001b[0m             \u001b[0mo\u001b[0m\u001b[1;33m.\u001b[0m\u001b[0mappend\u001b[0m\u001b[1;33m(\u001b[0m\u001b[0mobs\u001b[0m\u001b[1;33m)\u001b[0m\u001b[1;33m\u001b[0m\u001b[1;33m\u001b[0m\u001b[0m\n",
      "\u001b[1;32m~\\OneDrive\\Documents\\ML\\RL\\algos\\Agent.py\u001b[0m in \u001b[0;36mget_action\u001b[1;34m(self, obs, greedy, **kwargs)\u001b[0m\n\u001b[0;32m     86\u001b[0m \u001b[1;33m\u001b[0m\u001b[0m\n\u001b[0;32m     87\u001b[0m     \u001b[1;32mdef\u001b[0m \u001b[0mget_action\u001b[0m\u001b[1;33m(\u001b[0m\u001b[0mself\u001b[0m\u001b[1;33m,\u001b[0m \u001b[0mobs\u001b[0m\u001b[1;33m,\u001b[0m \u001b[0mgreedy\u001b[0m\u001b[1;33m=\u001b[0m\u001b[1;32mFalse\u001b[0m\u001b[1;33m,\u001b[0m \u001b[1;33m**\u001b[0m\u001b[0mkwargs\u001b[0m\u001b[1;33m)\u001b[0m\u001b[1;33m:\u001b[0m\u001b[1;33m\u001b[0m\u001b[1;33m\u001b[0m\u001b[0m\n\u001b[1;32m---> 88\u001b[1;33m         \u001b[0mprobs\u001b[0m \u001b[1;33m=\u001b[0m \u001b[0mself\u001b[0m\u001b[1;33m.\u001b[0m\u001b[0mget_policy\u001b[0m\u001b[1;33m(\u001b[0m\u001b[0mobs\u001b[0m\u001b[1;33m,\u001b[0m \u001b[1;33m**\u001b[0m\u001b[0mkwargs\u001b[0m\u001b[1;33m)\u001b[0m\u001b[1;33m\u001b[0m\u001b[1;33m\u001b[0m\u001b[0m\n\u001b[0m\u001b[0;32m     89\u001b[0m         \u001b[0mn\u001b[0m\u001b[1;33m,\u001b[0m \u001b[0ma\u001b[0m \u001b[1;33m=\u001b[0m \u001b[0mprobs\u001b[0m\u001b[1;33m.\u001b[0m\u001b[0mshape\u001b[0m\u001b[1;33m\u001b[0m\u001b[1;33m\u001b[0m\u001b[0m\n\u001b[0;32m     90\u001b[0m         \u001b[1;32mif\u001b[0m \u001b[0mgreedy\u001b[0m\u001b[1;33m:\u001b[0m\u001b[1;33m\u001b[0m\u001b[1;33m\u001b[0m\u001b[0m\n",
      "\u001b[1;32m~\\OneDrive\\Documents\\ML\\RL\\algos\\Agent.py\u001b[0m in \u001b[0;36mget_policy\u001b[1;34m(self, obs, batch)\u001b[0m\n\u001b[0;32m     82\u001b[0m     \u001b[1;32mdef\u001b[0m \u001b[0mget_policy\u001b[0m\u001b[1;33m(\u001b[0m\u001b[0mself\u001b[0m\u001b[1;33m,\u001b[0m \u001b[0mobs\u001b[0m\u001b[1;33m,\u001b[0m \u001b[0mbatch\u001b[0m\u001b[1;33m=\u001b[0m\u001b[1;32mFalse\u001b[0m\u001b[1;33m)\u001b[0m\u001b[1;33m:\u001b[0m\u001b[1;33m\u001b[0m\u001b[1;33m\u001b[0m\u001b[0m\n\u001b[0;32m     83\u001b[0m         \u001b[0mobs\u001b[0m \u001b[1;33m=\u001b[0m \u001b[0mobs\u001b[0m \u001b[1;32mif\u001b[0m \u001b[0mbatch\u001b[0m \u001b[1;32melse\u001b[0m \u001b[0mnp\u001b[0m\u001b[1;33m.\u001b[0m\u001b[0marray\u001b[0m\u001b[1;33m(\u001b[0m\u001b[1;33m[\u001b[0m\u001b[0mobs\u001b[0m\u001b[1;33m]\u001b[0m\u001b[1;33m)\u001b[0m\u001b[1;33m\u001b[0m\u001b[1;33m\u001b[0m\u001b[0m\n\u001b[1;32m---> 84\u001b[1;33m         \u001b[0mprobs\u001b[0m \u001b[1;33m=\u001b[0m \u001b[0mself\u001b[0m\u001b[1;33m.\u001b[0m\u001b[0mpolicy\u001b[0m\u001b[1;33m(\u001b[0m\u001b[0mobs\u001b[0m\u001b[1;33m)\u001b[0m\u001b[1;33m\u001b[0m\u001b[1;33m\u001b[0m\u001b[0m\n\u001b[0m\u001b[0;32m     85\u001b[0m         \u001b[1;32mreturn\u001b[0m \u001b[0mprobs\u001b[0m\u001b[1;33m\u001b[0m\u001b[1;33m\u001b[0m\u001b[0m\n\u001b[0;32m     86\u001b[0m \u001b[1;33m\u001b[0m\u001b[0m\n",
      "\u001b[1;32mc:\\python38\\lib\\site-packages\\tensorflow\\python\\keras\\engine\\base_layer.py\u001b[0m in \u001b[0;36m__call__\u001b[1;34m(self, *args, **kwargs)\u001b[0m\n\u001b[0;32m   1010\u001b[0m         with autocast_variable.enable_auto_cast_variables(\n\u001b[0;32m   1011\u001b[0m             self._compute_dtype_object):\n\u001b[1;32m-> 1012\u001b[1;33m           \u001b[0moutputs\u001b[0m \u001b[1;33m=\u001b[0m \u001b[0mcall_fn\u001b[0m\u001b[1;33m(\u001b[0m\u001b[0minputs\u001b[0m\u001b[1;33m,\u001b[0m \u001b[1;33m*\u001b[0m\u001b[0margs\u001b[0m\u001b[1;33m,\u001b[0m \u001b[1;33m**\u001b[0m\u001b[0mkwargs\u001b[0m\u001b[1;33m)\u001b[0m\u001b[1;33m\u001b[0m\u001b[1;33m\u001b[0m\u001b[0m\n\u001b[0m\u001b[0;32m   1013\u001b[0m \u001b[1;33m\u001b[0m\u001b[0m\n\u001b[0;32m   1014\u001b[0m         \u001b[1;32mif\u001b[0m \u001b[0mself\u001b[0m\u001b[1;33m.\u001b[0m\u001b[0m_activity_regularizer\u001b[0m\u001b[1;33m:\u001b[0m\u001b[1;33m\u001b[0m\u001b[1;33m\u001b[0m\u001b[0m\n",
      "\u001b[1;32mc:\\python38\\lib\\site-packages\\tensorflow\\python\\keras\\engine\\sequential.py\u001b[0m in \u001b[0;36mcall\u001b[1;34m(self, inputs, training, mask)\u001b[0m\n\u001b[0;32m    373\u001b[0m       \u001b[1;32mif\u001b[0m \u001b[1;32mnot\u001b[0m \u001b[0mself\u001b[0m\u001b[1;33m.\u001b[0m\u001b[0mbuilt\u001b[0m\u001b[1;33m:\u001b[0m\u001b[1;33m\u001b[0m\u001b[1;33m\u001b[0m\u001b[0m\n\u001b[0;32m    374\u001b[0m         \u001b[0mself\u001b[0m\u001b[1;33m.\u001b[0m\u001b[0m_init_graph_network\u001b[0m\u001b[1;33m(\u001b[0m\u001b[0mself\u001b[0m\u001b[1;33m.\u001b[0m\u001b[0minputs\u001b[0m\u001b[1;33m,\u001b[0m \u001b[0mself\u001b[0m\u001b[1;33m.\u001b[0m\u001b[0moutputs\u001b[0m\u001b[1;33m)\u001b[0m\u001b[1;33m\u001b[0m\u001b[1;33m\u001b[0m\u001b[0m\n\u001b[1;32m--> 375\u001b[1;33m       \u001b[1;32mreturn\u001b[0m \u001b[0msuper\u001b[0m\u001b[1;33m(\u001b[0m\u001b[0mSequential\u001b[0m\u001b[1;33m,\u001b[0m \u001b[0mself\u001b[0m\u001b[1;33m)\u001b[0m\u001b[1;33m.\u001b[0m\u001b[0mcall\u001b[0m\u001b[1;33m(\u001b[0m\u001b[0minputs\u001b[0m\u001b[1;33m,\u001b[0m \u001b[0mtraining\u001b[0m\u001b[1;33m=\u001b[0m\u001b[0mtraining\u001b[0m\u001b[1;33m,\u001b[0m \u001b[0mmask\u001b[0m\u001b[1;33m=\u001b[0m\u001b[0mmask\u001b[0m\u001b[1;33m)\u001b[0m\u001b[1;33m\u001b[0m\u001b[1;33m\u001b[0m\u001b[0m\n\u001b[0m\u001b[0;32m    376\u001b[0m \u001b[1;33m\u001b[0m\u001b[0m\n\u001b[0;32m    377\u001b[0m     \u001b[0moutputs\u001b[0m \u001b[1;33m=\u001b[0m \u001b[0minputs\u001b[0m  \u001b[1;31m# handle the corner case where self.layers is empty\u001b[0m\u001b[1;33m\u001b[0m\u001b[1;33m\u001b[0m\u001b[0m\n",
      "\u001b[1;32mc:\\python38\\lib\\site-packages\\tensorflow\\python\\keras\\engine\\functional.py\u001b[0m in \u001b[0;36mcall\u001b[1;34m(self, inputs, training, mask)\u001b[0m\n\u001b[0;32m    422\u001b[0m         \u001b[0ma\u001b[0m \u001b[0mlist\u001b[0m \u001b[0mof\u001b[0m \u001b[0mtensors\u001b[0m \u001b[1;32mif\u001b[0m \u001b[0mthere\u001b[0m \u001b[0mare\u001b[0m \u001b[0mmore\u001b[0m \u001b[0mthan\u001b[0m \u001b[0mone\u001b[0m \u001b[0moutputs\u001b[0m\u001b[1;33m.\u001b[0m\u001b[1;33m\u001b[0m\u001b[1;33m\u001b[0m\u001b[0m\n\u001b[0;32m    423\u001b[0m     \"\"\"\n\u001b[1;32m--> 424\u001b[1;33m     return self._run_internal_graph(\n\u001b[0m\u001b[0;32m    425\u001b[0m         inputs, training=training, mask=mask)\n\u001b[0;32m    426\u001b[0m \u001b[1;33m\u001b[0m\u001b[0m\n",
      "\u001b[1;32mc:\\python38\\lib\\site-packages\\tensorflow\\python\\keras\\engine\\functional.py\u001b[0m in \u001b[0;36m_run_internal_graph\u001b[1;34m(self, inputs, training, mask)\u001b[0m\n\u001b[0;32m    558\u001b[0m \u001b[1;33m\u001b[0m\u001b[0m\n\u001b[0;32m    559\u001b[0m         \u001b[0margs\u001b[0m\u001b[1;33m,\u001b[0m \u001b[0mkwargs\u001b[0m \u001b[1;33m=\u001b[0m \u001b[0mnode\u001b[0m\u001b[1;33m.\u001b[0m\u001b[0mmap_arguments\u001b[0m\u001b[1;33m(\u001b[0m\u001b[0mtensor_dict\u001b[0m\u001b[1;33m)\u001b[0m\u001b[1;33m\u001b[0m\u001b[1;33m\u001b[0m\u001b[0m\n\u001b[1;32m--> 560\u001b[1;33m         \u001b[0moutputs\u001b[0m \u001b[1;33m=\u001b[0m \u001b[0mnode\u001b[0m\u001b[1;33m.\u001b[0m\u001b[0mlayer\u001b[0m\u001b[1;33m(\u001b[0m\u001b[1;33m*\u001b[0m\u001b[0margs\u001b[0m\u001b[1;33m,\u001b[0m \u001b[1;33m**\u001b[0m\u001b[0mkwargs\u001b[0m\u001b[1;33m)\u001b[0m\u001b[1;33m\u001b[0m\u001b[1;33m\u001b[0m\u001b[0m\n\u001b[0m\u001b[0;32m    561\u001b[0m \u001b[1;33m\u001b[0m\u001b[0m\n\u001b[0;32m    562\u001b[0m         \u001b[1;31m# Update tensor_dict.\u001b[0m\u001b[1;33m\u001b[0m\u001b[1;33m\u001b[0m\u001b[1;33m\u001b[0m\u001b[0m\n",
      "\u001b[1;32mc:\\python38\\lib\\site-packages\\tensorflow\\python\\keras\\engine\\base_layer.py\u001b[0m in \u001b[0;36m__call__\u001b[1;34m(self, *args, **kwargs)\u001b[0m\n\u001b[0;32m   1010\u001b[0m         with autocast_variable.enable_auto_cast_variables(\n\u001b[0;32m   1011\u001b[0m             self._compute_dtype_object):\n\u001b[1;32m-> 1012\u001b[1;33m           \u001b[0moutputs\u001b[0m \u001b[1;33m=\u001b[0m \u001b[0mcall_fn\u001b[0m\u001b[1;33m(\u001b[0m\u001b[0minputs\u001b[0m\u001b[1;33m,\u001b[0m \u001b[1;33m*\u001b[0m\u001b[0margs\u001b[0m\u001b[1;33m,\u001b[0m \u001b[1;33m**\u001b[0m\u001b[0mkwargs\u001b[0m\u001b[1;33m)\u001b[0m\u001b[1;33m\u001b[0m\u001b[1;33m\u001b[0m\u001b[0m\n\u001b[0m\u001b[0;32m   1013\u001b[0m \u001b[1;33m\u001b[0m\u001b[0m\n\u001b[0;32m   1014\u001b[0m         \u001b[1;32mif\u001b[0m \u001b[0mself\u001b[0m\u001b[1;33m.\u001b[0m\u001b[0m_activity_regularizer\u001b[0m\u001b[1;33m:\u001b[0m\u001b[1;33m\u001b[0m\u001b[1;33m\u001b[0m\u001b[0m\n",
      "\u001b[1;32mc:\\python38\\lib\\site-packages\\tensorflow\\python\\keras\\layers\\core.py\u001b[0m in \u001b[0;36mcall\u001b[1;34m(self, inputs)\u001b[0m\n\u001b[0;32m   1205\u001b[0m \u001b[1;33m\u001b[0m\u001b[0m\n\u001b[0;32m   1206\u001b[0m   \u001b[1;32mdef\u001b[0m \u001b[0mcall\u001b[0m\u001b[1;33m(\u001b[0m\u001b[0mself\u001b[0m\u001b[1;33m,\u001b[0m \u001b[0minputs\u001b[0m\u001b[1;33m)\u001b[0m\u001b[1;33m:\u001b[0m\u001b[1;33m\u001b[0m\u001b[1;33m\u001b[0m\u001b[0m\n\u001b[1;32m-> 1207\u001b[1;33m     return core_ops.dense(\n\u001b[0m\u001b[0;32m   1208\u001b[0m         \u001b[0minputs\u001b[0m\u001b[1;33m,\u001b[0m\u001b[1;33m\u001b[0m\u001b[1;33m\u001b[0m\u001b[0m\n\u001b[0;32m   1209\u001b[0m         \u001b[0mself\u001b[0m\u001b[1;33m.\u001b[0m\u001b[0mkernel\u001b[0m\u001b[1;33m,\u001b[0m\u001b[1;33m\u001b[0m\u001b[1;33m\u001b[0m\u001b[0m\n",
      "\u001b[1;32mc:\\python38\\lib\\site-packages\\tensorflow\\python\\keras\\layers\\ops\\core.py\u001b[0m in \u001b[0;36mdense\u001b[1;34m(inputs, kernel, bias, activation, dtype)\u001b[0m\n\u001b[0;32m     51\u001b[0m       \u001b[0moutputs\u001b[0m \u001b[1;33m=\u001b[0m \u001b[0msparse_ops\u001b[0m\u001b[1;33m.\u001b[0m\u001b[0msparse_tensor_dense_matmul\u001b[0m\u001b[1;33m(\u001b[0m\u001b[0minputs\u001b[0m\u001b[1;33m,\u001b[0m \u001b[0mkernel\u001b[0m\u001b[1;33m)\u001b[0m\u001b[1;33m\u001b[0m\u001b[1;33m\u001b[0m\u001b[0m\n\u001b[0;32m     52\u001b[0m     \u001b[1;32melse\u001b[0m\u001b[1;33m:\u001b[0m\u001b[1;33m\u001b[0m\u001b[1;33m\u001b[0m\u001b[0m\n\u001b[1;32m---> 53\u001b[1;33m       \u001b[0moutputs\u001b[0m \u001b[1;33m=\u001b[0m \u001b[0mgen_math_ops\u001b[0m\u001b[1;33m.\u001b[0m\u001b[0mmat_mul\u001b[0m\u001b[1;33m(\u001b[0m\u001b[0minputs\u001b[0m\u001b[1;33m,\u001b[0m \u001b[0mkernel\u001b[0m\u001b[1;33m)\u001b[0m\u001b[1;33m\u001b[0m\u001b[1;33m\u001b[0m\u001b[0m\n\u001b[0m\u001b[0;32m     54\u001b[0m   \u001b[1;31m# Broadcast kernel to inputs.\u001b[0m\u001b[1;33m\u001b[0m\u001b[1;33m\u001b[0m\u001b[1;33m\u001b[0m\u001b[0m\n\u001b[0;32m     55\u001b[0m   \u001b[1;32melse\u001b[0m\u001b[1;33m:\u001b[0m\u001b[1;33m\u001b[0m\u001b[1;33m\u001b[0m\u001b[0m\n",
      "\u001b[1;32mc:\\python38\\lib\\site-packages\\tensorflow\\python\\ops\\gen_math_ops.py\u001b[0m in \u001b[0;36mmat_mul\u001b[1;34m(a, b, transpose_a, transpose_b, name)\u001b[0m\n\u001b[0;32m   5524\u001b[0m   \u001b[1;32mif\u001b[0m \u001b[0mtld\u001b[0m\u001b[1;33m.\u001b[0m\u001b[0mis_eager\u001b[0m\u001b[1;33m:\u001b[0m\u001b[1;33m\u001b[0m\u001b[1;33m\u001b[0m\u001b[0m\n\u001b[0;32m   5525\u001b[0m     \u001b[1;32mtry\u001b[0m\u001b[1;33m:\u001b[0m\u001b[1;33m\u001b[0m\u001b[1;33m\u001b[0m\u001b[0m\n\u001b[1;32m-> 5526\u001b[1;33m       _result = pywrap_tfe.TFE_Py_FastPathExecute(\n\u001b[0m\u001b[0;32m   5527\u001b[0m         \u001b[0m_ctx\u001b[0m\u001b[1;33m,\u001b[0m \u001b[1;34m\"MatMul\"\u001b[0m\u001b[1;33m,\u001b[0m \u001b[0mname\u001b[0m\u001b[1;33m,\u001b[0m \u001b[0ma\u001b[0m\u001b[1;33m,\u001b[0m \u001b[0mb\u001b[0m\u001b[1;33m,\u001b[0m \u001b[1;34m\"transpose_a\"\u001b[0m\u001b[1;33m,\u001b[0m \u001b[0mtranspose_a\u001b[0m\u001b[1;33m,\u001b[0m \u001b[1;34m\"transpose_b\"\u001b[0m\u001b[1;33m,\u001b[0m\u001b[1;33m\u001b[0m\u001b[1;33m\u001b[0m\u001b[0m\n\u001b[0;32m   5528\u001b[0m         transpose_b)\n",
      "\u001b[1;31mKeyboardInterrupt\u001b[0m: "
     ]
    }
   ],
   "source": [
    "if action == 'train':\n",
    "    agent.train(epochs=config['train_epochs'], t_max=t_max, buf_size=3000, min_buf_size=500)"
   ]
  },
  {
   "cell_type": "code",
   "execution_count": null,
   "metadata": {},
   "outputs": [],
   "source": [
    "def test_rollout(t_max, env, close=True):\n",
    "    import sys\n",
    "    obs = agent.preprocess(env.reset())\n",
    "    reward = 0\n",
    "    for i in range(t_max):\n",
    "        # print(agent.get_policy(obs))\n",
    "        act = agent.get_action(obs, greedy=True)[0]\n",
    "        obs, r, dn, info = env.step(agent.action_wrapper(act))\n",
    "        env.render()\n",
    "        print(act, file=sys.stderr)\n",
    "        time.sleep(0.05)\n",
    "        obs = agent.preprocess(obs)\n",
    "        reward += r\n",
    "        if dn:\n",
    "            break\n",
    "\n",
    "    print(\"Total reward: {}\".format(reward), file=sys.stderr)\n",
    "    if close: env.close()"
   ]
  },
  {
   "cell_type": "code",
   "execution_count": null,
   "metadata": {},
   "outputs": [],
   "source": [
    "if action == 'test':\n",
    "    test_rollout(10000, env, close=False)"
   ]
  },
  {
   "cell_type": "code",
   "execution_count": null,
   "metadata": {},
   "outputs": [],
   "source": [
    "# agent.train(4, t_max=500, min_buf_size=10)"
   ]
  },
  {
   "cell_type": "code",
   "execution_count": null,
   "metadata": {},
   "outputs": [],
   "source": [
    "%lprun -f agent.train agent.train(1, t_max=500, buf_size=2000, min_buf_size=10)"
   ]
  },
  {
   "cell_type": "code",
   "execution_count": null,
   "metadata": {},
   "outputs": [],
   "source": []
  }
 ],
 "metadata": {
  "kernelspec": {
   "display_name": "Python 3",
   "language": "python",
   "name": "python3"
  },
  "language_info": {
   "codemirror_mode": {
    "name": "ipython",
    "version": 3
   },
   "file_extension": ".py",
   "mimetype": "text/x-python",
   "name": "python",
   "nbconvert_exporter": "python",
   "pygments_lexer": "ipython3",
   "version": "3.8.3"
  }
 },
 "nbformat": 4,
 "nbformat_minor": 4
}

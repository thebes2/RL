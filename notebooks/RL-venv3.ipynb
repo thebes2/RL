{
 "cells": [
  {
   "cell_type": "code",
   "execution_count": null,
   "id": "01b125cf",
   "metadata": {},
   "outputs": [],
   "source": [
    "import gym\n",
    "import tensorflow as tf\n",
    "# from VPG import VPG_agent\n",
    "from PPO import PPO_agent\n",
    "import time\n",
    "import json\n",
    "import os\n",
    "import sys\n",
    "\n",
    "%matplotlib notebook"
   ]
  },
  {
   "cell_type": "code",
   "execution_count": null,
   "id": "662dc5e6",
   "metadata": {},
   "outputs": [],
   "source": [
    "run_name = 'cartpole'\n",
    "cfg_fp = os.path.join('configs', run_name + '.json')\n",
    "with open(cfg_fp, 'r') as f:\n",
    "    config = json.load(f)"
   ]
  },
  {
   "cell_type": "code",
   "execution_count": null,
   "id": "c9c01dd9",
   "metadata": {},
   "outputs": [],
   "source": [
    "env_name = config['env']\n",
    "env = gym.make(env_name).env if 'use_raw_env' in config else gym.make(env_name)"
   ]
  },
  {
   "cell_type": "code",
   "execution_count": null,
   "id": "376f6a3e",
   "metadata": {},
   "outputs": [],
   "source": [
    "print(env.reset())\n",
    "print(env.action_space)"
   ]
  },
  {
   "cell_type": "code",
   "execution_count": null,
   "id": "da114e1e",
   "metadata": {},
   "outputs": [],
   "source": [
    "if env_name == \"CartPole-v0\":   # Find a way to put this in config\n",
    "    model = tf.keras.Sequential([\n",
    "        tf.keras.layers.InputLayer(input_shape=(4,)),\n",
    "        tf.keras.layers.Dense(16, activation='relu'),\n",
    "        tf.keras.layers.Dense(16, activation='relu'),\n",
    "        tf.keras.layers.Dense(2, activation='softmax')\n",
    "    ])\n",
    "    value = tf.keras.Sequential([\n",
    "        tf.keras.layers.InputLayer(input_shape=(4,)),\n",
    "        tf.keras.layers.Dense(16, activation='relu'),\n",
    "        tf.keras.layers.Dense(16, activation='relu'),\n",
    "        tf.keras.layers.Dense(1, activation=None)\n",
    "    ])\n",
    "elif env_name == \"MountainCar-v0\":\n",
    "    model = tf.keras.Sequential([\n",
    "        tf.keras.layers.InputLayer(shape=(2,)),\n",
    "        tf.keras.layers.Dense(16, activation='relu'),\n",
    "        tf.keras.layers.Dense(16, activation='relu'),\n",
    "        tf.keras.layers.Dense(3, activation='softmax')\n",
    "    ])\n",
    "elif env_name == \"Acrobot-v1\":\n",
    "    model = tf.keras.Sequential([\n",
    "        tf.keras.layers.InputLayer(shape=(6,)),\n",
    "        tf.keras.layers.Dense(32, activation='relu'),\n",
    "        tf.keras.layers.Dense(48, activation='relu'),\n",
    "        tf.keras.layers.Dense(16, activation='relu'),\n",
    "        tf.keras.layers.Dense(3, activation='softmax')\n",
    "    ])\n",
    "    value = tf.keras.Sequential([\n",
    "        tf.keras.Input(shape=(6,)),\n",
    "        tf.keras.layers.Dense(32, activation='relu'),\n",
    "        tf.keras.layers.Dense(48, activation='relu'),\n",
    "        tf.keras.layers.Dense(16, activation='relu'),\n",
    "        tf.keras.layers.Dense(1, activation=None)\n",
    "    ])\n",
    "elif env_name == \"gym_snake:snake-v0\":\n",
    "    model = tf.keras.Sequential([\n",
    "        tf.keras.layers.InputLayer(input_shape=(15, 15, 3)),\n",
    "        tf.keras.layers.Conv2D(32, (3, 3), activation='relu'),\n",
    "        tf.keras.layers.Conv2D(64, (3, 3), activation='relu'),\n",
    "        tf.keras.layers.Flatten(),\n",
    "        tf.keras.layers.Dense(256, activation='relu'),\n",
    "        tf.keras.layers.Dense(64, activation='relu'),\n",
    "        tf.keras.layers.Dense(32, activation='relu'),\n",
    "        tf.keras.layers.Dense(4, activation='softmax')\n",
    "    ])\n",
    "    value = tf.keras.Sequential([\n",
    "        tf.keras.layers.InputLayer(input_shape=(15, 15, 3)),\n",
    "        tf.keras.layers.Conv2D(32, (3, 3), activation='relu'),\n",
    "        tf.keras.layers.Conv2D(64, (3, 3), activation='relu'),\n",
    "        tf.keras.layers.Flatten(),\n",
    "        tf.keras.layers.Dense(256, activation='relu'),\n",
    "        tf.keras.layers.Dense(64, activation='relu'),\n",
    "        tf.keras.layers.Dense(32, activation='relu'),\n",
    "        tf.keras.layers.Dense(1, activation=None)\n",
    "    ])\n",
    "elif env_name == \"Taxi-v3\":\n",
    "    model = tf.keras.Sequential([\n",
    "        tf.keras.layers.InputLayer(input_shape=(1,)),\n",
    "        tf.keras.layers.Dense(16, activation='relu'),\n",
    "        tf.keras.layers.Dense(16, activation='relu'),\n",
    "        tf.keras.layers.Dense(6, activation='softmax')\n",
    "    ])\n",
    "    value = tf.keras.Sequential([\n",
    "        tf.keras.layers.InputLayer(input_shape=(1,)),\n",
    "        tf.keras.layers.Dense(16, activation='relu'),\n",
    "        tf.keras.layers.Dense(16, activation='relu'),\n",
    "        tf.keras.layers.Dense(1, activation=None)\n",
    "    ])"
   ]
  },
  {
   "cell_type": "code",
   "execution_count": null,
   "id": "efdb5367",
   "metadata": {},
   "outputs": [],
   "source": [
    "agent = PPO_agent(\n",
    "    model,\n",
    "    value,\n",
    "    env=env,\n",
    "    learning_rate=config['learning_rate'],\n",
    "    minibatch_size=config['minibatch_size'],\n",
    "    env_name=config['env_name']\n",
    ")"
   ]
  },
  {
   "cell_type": "code",
   "execution_count": null,
   "id": "91cf4a0f",
   "metadata": {},
   "outputs": [],
   "source": [
    "t_max = config['t_max']"
   ]
  },
  {
   "cell_type": "code",
   "execution_count": null,
   "id": "9c4d1844",
   "metadata": {},
   "outputs": [],
   "source": [
    "agent.train(epochs=config['train_epochs'], t_max=t_max)"
   ]
  },
  {
   "cell_type": "code",
   "execution_count": null,
   "id": "f1270f32",
   "metadata": {},
   "outputs": [],
   "source": [
    "# env = gym.make(env_name) # .env\n",
    "obs = agent.preprocess(env.reset())\n",
    "reward = 0\n",
    "for i in range(t_max):\n",
    "    print(agent.get_policy(obs))\n",
    "    act = agent.get_action(obs, greedy=True)[0]\n",
    "    obs, r, dn, info = env.step(agent.action_wrapper(act))\n",
    "    env.render()\n",
    "    time.sleep(0.005)\n",
    "    obs = agent.preprocess(obs)\n",
    "    reward += r\n",
    "    if dn:\n",
    "        break\n",
    "\n",
    "print(\"Total reward: {}\".format(reward), file=sys.stderr)\n",
    "env.close()"
   ]
  }
 ],
 "metadata": {
  "kernelspec": {
   "display_name": "Python 3",
   "language": "python",
   "name": "python3"
  },
  "language_info": {
   "codemirror_mode": {
    "name": "ipython",
    "version": 3
   },
   "file_extension": ".py",
   "mimetype": "text/x-python",
   "name": "python",
   "nbconvert_exporter": "python",
   "pygments_lexer": "ipython3",
   "version": "3.8.3"
  }
 },
 "nbformat": 4,
 "nbformat_minor": 5
}
